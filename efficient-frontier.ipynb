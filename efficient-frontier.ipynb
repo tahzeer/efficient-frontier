{
 "cells": [
  {
   "cell_type": "code",
   "execution_count": 137,
   "metadata": {},
   "outputs": [],
   "source": [
    "import pandas as pd\n",
    "import numpy as np\n",
    "import matplotlib.pyplot as plt\n",
    "import seaborn as sns\n",
    "\n",
    "import yfinance as yf"
   ]
  },
  {
   "cell_type": "markdown",
   "metadata": {},
   "source": [
    "Securities chosen using Joel Greenblatt's Magic Formula, data queried through [Screener](https://www.screener.in/)\n",
    "  \n",
    "<br/>\n",
    "\n",
    "Query:\n",
    "\n",
    "Average return on capital employed 5Years > 29% AND  \n",
    "Average Earnings 5Year > 5.5 % AND  \n",
    "Market Capitalization > 50000 AND  \n",
    "Return on equity > 24%"
   ]
  },
  {
   "cell_type": "markdown",
   "metadata": {},
   "source": [
    "# Initialization"
   ]
  },
  {
   "cell_type": "code",
   "execution_count": 138,
   "metadata": {},
   "outputs": [],
   "source": [
    "CAPITAL = 10000\n",
    "\n",
    "TICKERS = [\n",
    "    'TCS.NS',\n",
    "    'ITC.NS', \n",
    "    'INFY.NS', \n",
    "    'LICI.NS', \n",
    "    'MARICO.NS', \n",
    "    'IRCTC.NS', \n",
    "    'LTIM.NS', \n",
    "    'COALINDIA.NS'\n",
    "    ]\n",
    "\n",
    "# TICKERS = [\n",
    "#     'BAYERCROP.NS',\n",
    "#     'ISEC.NS', \n",
    "#     'GLAXO.NS', S\n",
    "#     'COFORGE.NS', \n",
    "#     'COROMANDEL.NS', \n",
    "#     'MANYAVAR.NS', \n",
    "#     ]"
   ]
  },
  {
   "cell_type": "code",
   "execution_count": 139,
   "metadata": {},
   "outputs": [],
   "source": [
    "pd.set_option('display.max_colwidth', None)\n",
    "pd.set_option('display.max_columns', None)"
   ]
  },
  {
   "cell_type": "code",
   "execution_count": 140,
   "metadata": {},
   "outputs": [
    {
     "name": "stdout",
     "output_type": "stream",
     "text": [
      "0 TCS.NS\n",
      "1 ITC.NS\n",
      "2 INFY.NS\n",
      "3 LICI.NS\n",
      "4 MARICO.NS\n",
      "5 IRCTC.NS\n",
      "6 LTIM.NS\n",
      "7 COALINDIA.NS\n"
     ]
    }
   ],
   "source": [
    "stocks_prices = pd.DataFrame({'A' : []})\n",
    "stocks_info = pd.DataFrame({'A' : []})\n",
    "\n",
    "for i, ticker in enumerate(TICKERS):\n",
    "    print(i, ticker)\n",
    "    yticker = yf.Ticker(ticker)\n",
    "\n",
    "    history_prices = yticker.history(period='max')\n",
    "\n",
    "    history_prices['Ticker'] = ticker\n",
    "    history_prices['Year'] = history_prices.index.year\n",
    "    history_prices['Month'] = history_prices.index.month\n",
    "    history_prices['Weekday'] = history_prices.index.weekday\n",
    "    history_prices['Date'] = history_prices.index.date\n",
    "\n",
    "    for i in [1,3,7,30,90,365]:\n",
    "        history_prices['growth_'+str(i)+'d'] = history_prices['Close'] / history_prices['Close'].shift(i)\n",
    "\n",
    "    history_prices['future_growth_3d'] = history_prices['Close'].shift(-3) / history_prices['Close']\n",
    "\n",
    "    history_prices['volatility'] = history_prices['Close'].rolling(30).std() * np.sqrt(252)\n",
    "\n",
    "    if stocks_prices.empty:\n",
    "        stocks_prices = history_prices\n",
    "    else: \n",
    "        stocks_prices = pd.concat([stocks_prices,history_prices], ignore_index=True)\n",
    "     "
   ]
  },
  {
   "cell_type": "code",
   "execution_count": 141,
   "metadata": {},
   "outputs": [
    {
     "data": {
      "text/plain": [
       "datetime.date(2023, 7, 31)"
      ]
     },
     "execution_count": 141,
     "metadata": {},
     "output_type": "execute_result"
    }
   ],
   "source": [
    "filter_last_date = stocks_prices.Date==stocks_prices.Date.max()\n",
    "\n",
    "stocks_prices.Date.max()"
   ]
  },
  {
   "cell_type": "code",
   "execution_count": 142,
   "metadata": {},
   "outputs": [
    {
     "data": {
      "text/html": [
       "<div>\n",
       "<style scoped>\n",
       "    .dataframe tbody tr th:only-of-type {\n",
       "        vertical-align: middle;\n",
       "    }\n",
       "\n",
       "    .dataframe tbody tr th {\n",
       "        vertical-align: top;\n",
       "    }\n",
       "\n",
       "    .dataframe thead th {\n",
       "        text-align: right;\n",
       "    }\n",
       "</style>\n",
       "<table border=\"1\" class=\"dataframe\">\n",
       "  <thead>\n",
       "    <tr style=\"text-align: right;\">\n",
       "      <th></th>\n",
       "      <th>Open</th>\n",
       "      <th>High</th>\n",
       "      <th>Low</th>\n",
       "      <th>Close</th>\n",
       "      <th>Volume</th>\n",
       "      <th>Dividends</th>\n",
       "      <th>Stock Splits</th>\n",
       "      <th>Ticker</th>\n",
       "      <th>Year</th>\n",
       "      <th>Month</th>\n",
       "      <th>Weekday</th>\n",
       "      <th>Date</th>\n",
       "      <th>growth_1d</th>\n",
       "      <th>growth_3d</th>\n",
       "      <th>growth_7d</th>\n",
       "      <th>growth_30d</th>\n",
       "      <th>growth_90d</th>\n",
       "      <th>growth_365d</th>\n",
       "      <th>future_growth_3d</th>\n",
       "      <th>volatility</th>\n",
       "    </tr>\n",
       "  </thead>\n",
       "  <tbody>\n",
       "    <tr>\n",
       "      <th>5208</th>\n",
       "      <td>3364.399902</td>\n",
       "      <td>3426.649902</td>\n",
       "      <td>3360.899902</td>\n",
       "      <td>3421.449951</td>\n",
       "      <td>2743566</td>\n",
       "      <td>0.0</td>\n",
       "      <td>0.0</td>\n",
       "      <td>TCS.NS</td>\n",
       "      <td>2023</td>\n",
       "      <td>7</td>\n",
       "      <td>0</td>\n",
       "      <td>2023-07-31</td>\n",
       "      <td>1.019685</td>\n",
       "      <td>1.009784</td>\n",
       "      <td>0.987916</td>\n",
       "      <td>1.080458</td>\n",
       "      <td>1.086987</td>\n",
       "      <td>0.953183</td>\n",
       "      <td>NaN</td>\n",
       "      <td>1570.985524</td>\n",
       "    </tr>\n",
       "    <tr>\n",
       "      <th>12140</th>\n",
       "      <td>469.000000</td>\n",
       "      <td>469.700012</td>\n",
       "      <td>463.500000</td>\n",
       "      <td>465.700012</td>\n",
       "      <td>8183581</td>\n",
       "      <td>0.0</td>\n",
       "      <td>0.0</td>\n",
       "      <td>ITC.NS</td>\n",
       "      <td>2023</td>\n",
       "      <td>7</td>\n",
       "      <td>0</td>\n",
       "      <td>2023-07-31</td>\n",
       "      <td>0.994130</td>\n",
       "      <td>0.986130</td>\n",
       "      <td>0.946256</td>\n",
       "      <td>1.027808</td>\n",
       "      <td>1.247688</td>\n",
       "      <td>2.155154</td>\n",
       "      <td>NaN</td>\n",
       "      <td>206.006293</td>\n",
       "    </tr>\n",
       "    <tr>\n",
       "      <th>19076</th>\n",
       "      <td>1348.750000</td>\n",
       "      <td>1357.500000</td>\n",
       "      <td>1333.250000</td>\n",
       "      <td>1355.699951</td>\n",
       "      <td>7901215</td>\n",
       "      <td>0.0</td>\n",
       "      <td>0.0</td>\n",
       "      <td>INFY.NS</td>\n",
       "      <td>2023</td>\n",
       "      <td>7</td>\n",
       "      <td>0</td>\n",
       "      <td>2023-07-31</td>\n",
       "      <td>1.011339</td>\n",
       "      <td>1.005078</td>\n",
       "      <td>0.935288</td>\n",
       "      <td>1.049588</td>\n",
       "      <td>0.980084</td>\n",
       "      <td>0.828353</td>\n",
       "      <td>NaN</td>\n",
       "      <td>885.762738</td>\n",
       "    </tr>\n",
       "    <tr>\n",
       "      <th>19377</th>\n",
       "      <td>627.000000</td>\n",
       "      <td>641.400024</td>\n",
       "      <td>627.000000</td>\n",
       "      <td>639.950012</td>\n",
       "      <td>1469096</td>\n",
       "      <td>0.0</td>\n",
       "      <td>0.0</td>\n",
       "      <td>LICI.NS</td>\n",
       "      <td>2023</td>\n",
       "      <td>7</td>\n",
       "      <td>0</td>\n",
       "      <td>2023-07-31</td>\n",
       "      <td>1.021061</td>\n",
       "      <td>1.019110</td>\n",
       "      <td>1.023511</td>\n",
       "      <td>1.068980</td>\n",
       "      <td>1.114236</td>\n",
       "      <td>NaN</td>\n",
       "      <td>NaN</td>\n",
       "      <td>132.147014</td>\n",
       "    </tr>\n",
       "    <tr>\n",
       "      <th>26226</th>\n",
       "      <td>574.950012</td>\n",
       "      <td>577.000000</td>\n",
       "      <td>557.200012</td>\n",
       "      <td>560.549988</td>\n",
       "      <td>3135574</td>\n",
       "      <td>0.0</td>\n",
       "      <td>0.0</td>\n",
       "      <td>MARICO.NS</td>\n",
       "      <td>2023</td>\n",
       "      <td>7</td>\n",
       "      <td>0</td>\n",
       "      <td>2023-07-31</td>\n",
       "      <td>0.975973</td>\n",
       "      <td>1.052281</td>\n",
       "      <td>1.039692</td>\n",
       "      <td>1.022621</td>\n",
       "      <td>1.153158</td>\n",
       "      <td>1.118290</td>\n",
       "      <td>NaN</td>\n",
       "      <td>176.704646</td>\n",
       "    </tr>\n",
       "    <tr>\n",
       "      <th>27170</th>\n",
       "      <td>632.500000</td>\n",
       "      <td>642.650024</td>\n",
       "      <td>631.049988</td>\n",
       "      <td>640.650024</td>\n",
       "      <td>2234336</td>\n",
       "      <td>0.0</td>\n",
       "      <td>0.0</td>\n",
       "      <td>IRCTC.NS</td>\n",
       "      <td>2023</td>\n",
       "      <td>7</td>\n",
       "      <td>0</td>\n",
       "      <td>2023-07-31</td>\n",
       "      <td>1.015857</td>\n",
       "      <td>1.033306</td>\n",
       "      <td>1.024794</td>\n",
       "      <td>0.963383</td>\n",
       "      <td>1.047413</td>\n",
       "      <td>0.772233</td>\n",
       "      <td>NaN</td>\n",
       "      <td>212.601387</td>\n",
       "    </tr>\n",
       "    <tr>\n",
       "      <th>28907</th>\n",
       "      <td>4840.399902</td>\n",
       "      <td>4904.000000</td>\n",
       "      <td>4801.000000</td>\n",
       "      <td>4891.649902</td>\n",
       "      <td>343016</td>\n",
       "      <td>0.0</td>\n",
       "      <td>0.0</td>\n",
       "      <td>LTIM.NS</td>\n",
       "      <td>2023</td>\n",
       "      <td>7</td>\n",
       "      <td>0</td>\n",
       "      <td>2023-07-31</td>\n",
       "      <td>1.009827</td>\n",
       "      <td>1.006398</td>\n",
       "      <td>0.981264</td>\n",
       "      <td>0.983956</td>\n",
       "      <td>1.054827</td>\n",
       "      <td>0.815742</td>\n",
       "      <td>NaN</td>\n",
       "      <td>1847.344005</td>\n",
       "    </tr>\n",
       "    <tr>\n",
       "      <th>32048</th>\n",
       "      <td>228.500000</td>\n",
       "      <td>229.949997</td>\n",
       "      <td>227.000000</td>\n",
       "      <td>229.250000</td>\n",
       "      <td>19420876</td>\n",
       "      <td>0.0</td>\n",
       "      <td>0.0</td>\n",
       "      <td>COALINDIA.NS</td>\n",
       "      <td>2023</td>\n",
       "      <td>7</td>\n",
       "      <td>0</td>\n",
       "      <td>2023-07-31</td>\n",
       "      <td>1.009467</td>\n",
       "      <td>0.994577</td>\n",
       "      <td>0.997824</td>\n",
       "      <td>1.003063</td>\n",
       "      <td>1.034288</td>\n",
       "      <td>1.633653</td>\n",
       "      <td>NaN</td>\n",
       "      <td>45.138031</td>\n",
       "    </tr>\n",
       "  </tbody>\n",
       "</table>\n",
       "</div>"
      ],
      "text/plain": [
       "              Open         High          Low        Close    Volume  \\\n",
       "5208   3364.399902  3426.649902  3360.899902  3421.449951   2743566   \n",
       "12140   469.000000   469.700012   463.500000   465.700012   8183581   \n",
       "19076  1348.750000  1357.500000  1333.250000  1355.699951   7901215   \n",
       "19377   627.000000   641.400024   627.000000   639.950012   1469096   \n",
       "26226   574.950012   577.000000   557.200012   560.549988   3135574   \n",
       "27170   632.500000   642.650024   631.049988   640.650024   2234336   \n",
       "28907  4840.399902  4904.000000  4801.000000  4891.649902    343016   \n",
       "32048   228.500000   229.949997   227.000000   229.250000  19420876   \n",
       "\n",
       "       Dividends  Stock Splits        Ticker  Year  Month  Weekday  \\\n",
       "5208         0.0           0.0        TCS.NS  2023      7        0   \n",
       "12140        0.0           0.0        ITC.NS  2023      7        0   \n",
       "19076        0.0           0.0       INFY.NS  2023      7        0   \n",
       "19377        0.0           0.0       LICI.NS  2023      7        0   \n",
       "26226        0.0           0.0     MARICO.NS  2023      7        0   \n",
       "27170        0.0           0.0      IRCTC.NS  2023      7        0   \n",
       "28907        0.0           0.0       LTIM.NS  2023      7        0   \n",
       "32048        0.0           0.0  COALINDIA.NS  2023      7        0   \n",
       "\n",
       "             Date  growth_1d  growth_3d  growth_7d  growth_30d  growth_90d  \\\n",
       "5208   2023-07-31   1.019685   1.009784   0.987916    1.080458    1.086987   \n",
       "12140  2023-07-31   0.994130   0.986130   0.946256    1.027808    1.247688   \n",
       "19076  2023-07-31   1.011339   1.005078   0.935288    1.049588    0.980084   \n",
       "19377  2023-07-31   1.021061   1.019110   1.023511    1.068980    1.114236   \n",
       "26226  2023-07-31   0.975973   1.052281   1.039692    1.022621    1.153158   \n",
       "27170  2023-07-31   1.015857   1.033306   1.024794    0.963383    1.047413   \n",
       "28907  2023-07-31   1.009827   1.006398   0.981264    0.983956    1.054827   \n",
       "32048  2023-07-31   1.009467   0.994577   0.997824    1.003063    1.034288   \n",
       "\n",
       "       growth_365d  future_growth_3d   volatility  \n",
       "5208      0.953183               NaN  1570.985524  \n",
       "12140     2.155154               NaN   206.006293  \n",
       "19076     0.828353               NaN   885.762738  \n",
       "19377          NaN               NaN   132.147014  \n",
       "26226     1.118290               NaN   176.704646  \n",
       "27170     0.772233               NaN   212.601387  \n",
       "28907     0.815742               NaN  1847.344005  \n",
       "32048     1.633653               NaN    45.138031  "
      ]
     },
     "execution_count": 142,
     "metadata": {},
     "output_type": "execute_result"
    }
   ],
   "source": [
    "stocks_prices[filter_last_date]"
   ]
  },
  {
   "cell_type": "code",
   "execution_count": 143,
   "metadata": {},
   "outputs": [
    {
     "data": {
      "text/html": [
       "<div>\n",
       "<style scoped>\n",
       "    .dataframe tbody tr th:only-of-type {\n",
       "        vertical-align: middle;\n",
       "    }\n",
       "\n",
       "    .dataframe tbody tr th {\n",
       "        vertical-align: top;\n",
       "    }\n",
       "\n",
       "    .dataframe thead th {\n",
       "        text-align: right;\n",
       "    }\n",
       "</style>\n",
       "<table border=\"1\" class=\"dataframe\">\n",
       "  <thead>\n",
       "    <tr style=\"text-align: right;\">\n",
       "      <th>Ticker</th>\n",
       "      <th>Date</th>\n",
       "      <th>COALINDIA.NS</th>\n",
       "      <th>INFY.NS</th>\n",
       "      <th>IRCTC.NS</th>\n",
       "      <th>ITC.NS</th>\n",
       "      <th>LICI.NS</th>\n",
       "      <th>LTIM.NS</th>\n",
       "      <th>MARICO.NS</th>\n",
       "      <th>TCS.NS</th>\n",
       "    </tr>\n",
       "  </thead>\n",
       "  <tbody>\n",
       "    <tr>\n",
       "      <th>0</th>\n",
       "      <td>1996-01-01</td>\n",
       "      <td>NaN</td>\n",
       "      <td>0.519068</td>\n",
       "      <td>NaN</td>\n",
       "      <td>3.303553</td>\n",
       "      <td>NaN</td>\n",
       "      <td>NaN</td>\n",
       "      <td>NaN</td>\n",
       "      <td>NaN</td>\n",
       "    </tr>\n",
       "    <tr>\n",
       "      <th>1</th>\n",
       "      <td>1996-01-02</td>\n",
       "      <td>NaN</td>\n",
       "      <td>0.516969</td>\n",
       "      <td>NaN</td>\n",
       "      <td>3.178642</td>\n",
       "      <td>NaN</td>\n",
       "      <td>NaN</td>\n",
       "      <td>NaN</td>\n",
       "      <td>NaN</td>\n",
       "    </tr>\n",
       "    <tr>\n",
       "      <th>2</th>\n",
       "      <td>1996-01-03</td>\n",
       "      <td>NaN</td>\n",
       "      <td>0.520468</td>\n",
       "      <td>NaN</td>\n",
       "      <td>3.076741</td>\n",
       "      <td>NaN</td>\n",
       "      <td>NaN</td>\n",
       "      <td>NaN</td>\n",
       "      <td>NaN</td>\n",
       "    </tr>\n",
       "    <tr>\n",
       "      <th>3</th>\n",
       "      <td>1996-01-04</td>\n",
       "      <td>NaN</td>\n",
       "      <td>0.517032</td>\n",
       "      <td>NaN</td>\n",
       "      <td>3.134594</td>\n",
       "      <td>NaN</td>\n",
       "      <td>NaN</td>\n",
       "      <td>NaN</td>\n",
       "      <td>NaN</td>\n",
       "    </tr>\n",
       "    <tr>\n",
       "      <th>4</th>\n",
       "      <td>1996-01-05</td>\n",
       "      <td>NaN</td>\n",
       "      <td>0.510924</td>\n",
       "      <td>NaN</td>\n",
       "      <td>3.078056</td>\n",
       "      <td>NaN</td>\n",
       "      <td>NaN</td>\n",
       "      <td>NaN</td>\n",
       "      <td>NaN</td>\n",
       "    </tr>\n",
       "    <tr>\n",
       "      <th>...</th>\n",
       "      <td>...</td>\n",
       "      <td>...</td>\n",
       "      <td>...</td>\n",
       "      <td>...</td>\n",
       "      <td>...</td>\n",
       "      <td>...</td>\n",
       "      <td>...</td>\n",
       "      <td>...</td>\n",
       "      <td>...</td>\n",
       "    </tr>\n",
       "    <tr>\n",
       "      <th>6931</th>\n",
       "      <td>2023-07-25</td>\n",
       "      <td>229.949997</td>\n",
       "      <td>1334.599976</td>\n",
       "      <td>619.450012</td>\n",
       "      <td>462.299988</td>\n",
       "      <td>623.049988</td>\n",
       "      <td>4868.649902</td>\n",
       "      <td>540.599976</td>\n",
       "      <td>3399.149902</td>\n",
       "    </tr>\n",
       "    <tr>\n",
       "      <th>6932</th>\n",
       "      <td>2023-07-26</td>\n",
       "      <td>230.500000</td>\n",
       "      <td>1348.849976</td>\n",
       "      <td>620.000000</td>\n",
       "      <td>472.250000</td>\n",
       "      <td>627.950012</td>\n",
       "      <td>4860.549805</td>\n",
       "      <td>532.700012</td>\n",
       "      <td>3388.300049</td>\n",
       "    </tr>\n",
       "    <tr>\n",
       "      <th>6933</th>\n",
       "      <td>2023-07-27</td>\n",
       "      <td>229.050003</td>\n",
       "      <td>1353.150024</td>\n",
       "      <td>619.500000</td>\n",
       "      <td>465.049988</td>\n",
       "      <td>630.250000</td>\n",
       "      <td>4862.450195</td>\n",
       "      <td>554.049988</td>\n",
       "      <td>3396.899902</td>\n",
       "    </tr>\n",
       "    <tr>\n",
       "      <th>6934</th>\n",
       "      <td>2023-07-28</td>\n",
       "      <td>227.100006</td>\n",
       "      <td>1340.500000</td>\n",
       "      <td>630.650024</td>\n",
       "      <td>468.450012</td>\n",
       "      <td>626.750000</td>\n",
       "      <td>4844.049805</td>\n",
       "      <td>574.349976</td>\n",
       "      <td>3355.399902</td>\n",
       "    </tr>\n",
       "    <tr>\n",
       "      <th>6935</th>\n",
       "      <td>2023-07-31</td>\n",
       "      <td>229.250000</td>\n",
       "      <td>1355.699951</td>\n",
       "      <td>640.650024</td>\n",
       "      <td>465.700012</td>\n",
       "      <td>639.950012</td>\n",
       "      <td>4891.649902</td>\n",
       "      <td>560.549988</td>\n",
       "      <td>3421.449951</td>\n",
       "    </tr>\n",
       "  </tbody>\n",
       "</table>\n",
       "<p>6936 rows × 9 columns</p>\n",
       "</div>"
      ],
      "text/plain": [
       "Ticker        Date  COALINDIA.NS      INFY.NS    IRCTC.NS      ITC.NS  \\\n",
       "0       1996-01-01           NaN     0.519068         NaN    3.303553   \n",
       "1       1996-01-02           NaN     0.516969         NaN    3.178642   \n",
       "2       1996-01-03           NaN     0.520468         NaN    3.076741   \n",
       "3       1996-01-04           NaN     0.517032         NaN    3.134594   \n",
       "4       1996-01-05           NaN     0.510924         NaN    3.078056   \n",
       "...            ...           ...          ...         ...         ...   \n",
       "6931    2023-07-25    229.949997  1334.599976  619.450012  462.299988   \n",
       "6932    2023-07-26    230.500000  1348.849976  620.000000  472.250000   \n",
       "6933    2023-07-27    229.050003  1353.150024  619.500000  465.049988   \n",
       "6934    2023-07-28    227.100006  1340.500000  630.650024  468.450012   \n",
       "6935    2023-07-31    229.250000  1355.699951  640.650024  465.700012   \n",
       "\n",
       "Ticker     LICI.NS      LTIM.NS   MARICO.NS       TCS.NS  \n",
       "0              NaN          NaN         NaN          NaN  \n",
       "1              NaN          NaN         NaN          NaN  \n",
       "2              NaN          NaN         NaN          NaN  \n",
       "3              NaN          NaN         NaN          NaN  \n",
       "4              NaN          NaN         NaN          NaN  \n",
       "...            ...          ...         ...          ...  \n",
       "6931    623.049988  4868.649902  540.599976  3399.149902  \n",
       "6932    627.950012  4860.549805  532.700012  3388.300049  \n",
       "6933    630.250000  4862.450195  554.049988  3396.899902  \n",
       "6934    626.750000  4844.049805  574.349976  3355.399902  \n",
       "6935    639.950012  4891.649902  560.549988  3421.449951  \n",
       "\n",
       "[6936 rows x 9 columns]"
      ]
     },
     "execution_count": 143,
     "metadata": {},
     "output_type": "execute_result"
    }
   ],
   "source": [
    "df_pivot = stocks_prices.pivot('Date','Ticker','Close').reset_index()\n",
    "df_pivot"
   ]
  },
  {
   "cell_type": "code",
   "execution_count": 144,
   "metadata": {},
   "outputs": [
    {
     "data": {
      "text/html": [
       "<div>\n",
       "<style scoped>\n",
       "    .dataframe tbody tr th:only-of-type {\n",
       "        vertical-align: middle;\n",
       "    }\n",
       "\n",
       "    .dataframe tbody tr th {\n",
       "        vertical-align: top;\n",
       "    }\n",
       "\n",
       "    .dataframe thead th {\n",
       "        text-align: right;\n",
       "    }\n",
       "</style>\n",
       "<table border=\"1\" class=\"dataframe\">\n",
       "  <thead>\n",
       "    <tr style=\"text-align: right;\">\n",
       "      <th>Ticker</th>\n",
       "      <th>COALINDIA.NS</th>\n",
       "      <th>INFY.NS</th>\n",
       "      <th>IRCTC.NS</th>\n",
       "      <th>ITC.NS</th>\n",
       "      <th>LICI.NS</th>\n",
       "      <th>LTIM.NS</th>\n",
       "      <th>MARICO.NS</th>\n",
       "      <th>TCS.NS</th>\n",
       "    </tr>\n",
       "    <tr>\n",
       "      <th>Ticker</th>\n",
       "      <th></th>\n",
       "      <th></th>\n",
       "      <th></th>\n",
       "      <th></th>\n",
       "      <th></th>\n",
       "      <th></th>\n",
       "      <th></th>\n",
       "      <th></th>\n",
       "    </tr>\n",
       "  </thead>\n",
       "  <tbody>\n",
       "    <tr>\n",
       "      <th>COALINDIA.NS</th>\n",
       "      <td>1.000000</td>\n",
       "      <td>0.094375</td>\n",
       "      <td>0.630349</td>\n",
       "      <td>0.603332</td>\n",
       "      <td>-0.660687</td>\n",
       "      <td>0.079398</td>\n",
       "      <td>0.194094</td>\n",
       "      <td>0.100370</td>\n",
       "    </tr>\n",
       "    <tr>\n",
       "      <th>INFY.NS</th>\n",
       "      <td>0.094375</td>\n",
       "      <td>1.000000</td>\n",
       "      <td>0.872890</td>\n",
       "      <td>0.816594</td>\n",
       "      <td>0.381546</td>\n",
       "      <td>0.979006</td>\n",
       "      <td>0.949588</td>\n",
       "      <td>0.979459</td>\n",
       "    </tr>\n",
       "    <tr>\n",
       "      <th>IRCTC.NS</th>\n",
       "      <td>0.630349</td>\n",
       "      <td>0.872890</td>\n",
       "      <td>1.000000</td>\n",
       "      <td>0.534224</td>\n",
       "      <td>0.156065</td>\n",
       "      <td>0.909440</td>\n",
       "      <td>0.866668</td>\n",
       "      <td>0.850747</td>\n",
       "    </tr>\n",
       "    <tr>\n",
       "      <th>ITC.NS</th>\n",
       "      <td>0.603332</td>\n",
       "      <td>0.816594</td>\n",
       "      <td>0.534224</td>\n",
       "      <td>1.000000</td>\n",
       "      <td>-0.669534</td>\n",
       "      <td>0.388113</td>\n",
       "      <td>0.903239</td>\n",
       "      <td>0.838554</td>\n",
       "    </tr>\n",
       "    <tr>\n",
       "      <th>LICI.NS</th>\n",
       "      <td>-0.660687</td>\n",
       "      <td>0.381546</td>\n",
       "      <td>0.156065</td>\n",
       "      <td>-0.669534</td>\n",
       "      <td>1.000000</td>\n",
       "      <td>-0.523614</td>\n",
       "      <td>0.095401</td>\n",
       "      <td>-0.040368</td>\n",
       "    </tr>\n",
       "    <tr>\n",
       "      <th>LTIM.NS</th>\n",
       "      <td>0.079398</td>\n",
       "      <td>0.979006</td>\n",
       "      <td>0.909440</td>\n",
       "      <td>0.388113</td>\n",
       "      <td>-0.523614</td>\n",
       "      <td>1.000000</td>\n",
       "      <td>0.934833</td>\n",
       "      <td>0.963218</td>\n",
       "    </tr>\n",
       "    <tr>\n",
       "      <th>MARICO.NS</th>\n",
       "      <td>0.194094</td>\n",
       "      <td>0.949588</td>\n",
       "      <td>0.866668</td>\n",
       "      <td>0.903239</td>\n",
       "      <td>0.095401</td>\n",
       "      <td>0.934833</td>\n",
       "      <td>1.000000</td>\n",
       "      <td>0.974004</td>\n",
       "    </tr>\n",
       "    <tr>\n",
       "      <th>TCS.NS</th>\n",
       "      <td>0.100370</td>\n",
       "      <td>0.979459</td>\n",
       "      <td>0.850747</td>\n",
       "      <td>0.838554</td>\n",
       "      <td>-0.040368</td>\n",
       "      <td>0.963218</td>\n",
       "      <td>0.974004</td>\n",
       "      <td>1.000000</td>\n",
       "    </tr>\n",
       "  </tbody>\n",
       "</table>\n",
       "</div>"
      ],
      "text/plain": [
       "Ticker        COALINDIA.NS   INFY.NS  IRCTC.NS    ITC.NS   LICI.NS   LTIM.NS  \\\n",
       "Ticker                                                                         \n",
       "COALINDIA.NS      1.000000  0.094375  0.630349  0.603332 -0.660687  0.079398   \n",
       "INFY.NS           0.094375  1.000000  0.872890  0.816594  0.381546  0.979006   \n",
       "IRCTC.NS          0.630349  0.872890  1.000000  0.534224  0.156065  0.909440   \n",
       "ITC.NS            0.603332  0.816594  0.534224  1.000000 -0.669534  0.388113   \n",
       "LICI.NS          -0.660687  0.381546  0.156065 -0.669534  1.000000 -0.523614   \n",
       "LTIM.NS           0.079398  0.979006  0.909440  0.388113 -0.523614  1.000000   \n",
       "MARICO.NS         0.194094  0.949588  0.866668  0.903239  0.095401  0.934833   \n",
       "TCS.NS            0.100370  0.979459  0.850747  0.838554 -0.040368  0.963218   \n",
       "\n",
       "Ticker        MARICO.NS    TCS.NS  \n",
       "Ticker                             \n",
       "COALINDIA.NS   0.194094  0.100370  \n",
       "INFY.NS        0.949588  0.979459  \n",
       "IRCTC.NS       0.866668  0.850747  \n",
       "ITC.NS         0.903239  0.838554  \n",
       "LICI.NS        0.095401 -0.040368  \n",
       "LTIM.NS        0.934833  0.963218  \n",
       "MARICO.NS      1.000000  0.974004  \n",
       "TCS.NS         0.974004  1.000000  "
      ]
     },
     "execution_count": 144,
     "metadata": {},
     "output_type": "execute_result"
    }
   ],
   "source": [
    "# calculating the correlation matrix\n",
    "\n",
    "df_pivot.corr()"
   ]
  },
  {
   "cell_type": "code",
   "execution_count": 145,
   "metadata": {},
   "outputs": [
    {
     "data": {
      "image/png": "[encoded data removed]",
      "text/plain": [
       "<Figure size 504x360 with 2 Axes>"
      ]
     },
     "metadata": {},
     "output_type": "display_data"
    }
   ],
   "source": [
    "corr = df_pivot.corr()\n",
    "mask = np.zeros_like(corr)\n",
    "mask[np.triu_indices_from(mask)] = True\n",
    "\n",
    "with sns.axes_style('white'):\n",
    "    f, ax = plt.subplots(figsize=(7, 5))\n",
    "    ax = sns.heatmap(corr, mask=mask, vmax=.3, square=True, annot=True, cmap='RdYlGn')"
   ]
  },
  {
   "cell_type": "markdown",
   "metadata": {},
   "source": [
    "# Testing types of optimal portfolios"
   ]
  },
  {
   "cell_type": "code",
   "execution_count": 146,
   "metadata": {},
   "outputs": [],
   "source": [
    "import pypfopt"
   ]
  },
  {
   "cell_type": "code",
   "execution_count": 147,
   "metadata": {},
   "outputs": [],
   "source": [
    "from pypfopt import risk_models\n",
    "from pypfopt import plotting\n",
    "from pypfopt import expected_returns\n",
    "from pypfopt import EfficientFrontier"
   ]
  },
  {
   "cell_type": "code",
   "execution_count": 148,
   "metadata": {},
   "outputs": [
    {
     "name": "stdout",
     "output_type": "stream",
     "text": [
      "Expected returns for each stock: Ticker\n",
      "COALINDIA.NS    0.130081\n",
      "INFY.NS         0.319679\n",
      "IRCTC.NS        0.228308\n",
      "ITC.NS          0.240826\n",
      "LICI.NS         0.100753\n",
      "LTIM.NS         0.178922\n",
      "MARICO.NS       0.216481\n",
      "TCS.NS          0.508499\n",
      "Name: mkt, dtype: float64 \n",
      "\n",
      "Portfolio weights or min colatility optimization (lowest level of risk): {\n",
      "    \"COALINDIA.NS\": 0.14797,\n",
      "    \"INFY.NS\": 0.04286,\n",
      "    \"IRCTC.NS\": 0.18187,\n",
      "    \"ITC.NS\": 0.06757,\n",
      "    \"LICI.NS\": 0.28198,\n",
      "    \"LTIM.NS\": 0.16919,\n",
      "    \"MARICO.NS\": 0.07686,\n",
      "    \"TCS.NS\": 0.0317\n",
      "} \n",
      "\n",
      "Expected annual return: 18.2%\n",
      "Annual volatility: 10.2%\n",
      "Sharpe Ratio: 1.08\n",
      "Portfolio performance: (0.18218464167084863, 0.1019217227046705, 1.0848976914494561) \n",
      "\n",
      "Portfolio weights for maxSharpe optimization (highest return-per-risk): {\n",
      "    \"COALINDIA.NS\": 0.14797,\n",
      "    \"INFY.NS\": 0.04286,\n",
      "    \"IRCTC.NS\": 0.18187,\n",
      "    \"ITC.NS\": 0.06757,\n",
      "    \"LICI.NS\": 0.28198,\n",
      "    \"LTIM.NS\": 0.16919,\n",
      "    \"MARICO.NS\": 0.07686,\n",
      "    \"TCS.NS\": 0.0317\n",
      "} \n",
      "\n",
      "Expected annual return: 24.1%\n",
      "Annual volatility: 11.9%\n",
      "Sharpe Ratio: 1.86\n",
      "Portfolio performance: (0.24102708528843284, 0.11898292499018649, 1.8576370122575385) \n",
      "\n"
     ]
    },
    {
     "name": "stderr",
     "output_type": "stream",
     "text": [
      "c:\\Users\\tahze\\AppData\\Local\\Programs\\Python\\Python310\\lib\\site-packages\\pypfopt\\efficient_frontier\\efficient_frontier.py:441: UserWarning: The risk_free_rate provided to portfolio_performance is different to the one used by max_sharpe. Using the previous value.\n",
      "  warnings.warn(\n"
     ]
    },
    {
     "data": {
      "image/png": "[encoded data removed]",
      "text/plain": [
       "<Figure size 432x288 with 1 Axes>"
      ]
     },
     "metadata": {
      "needs_background": "light"
     },
     "output_type": "display_data"
    }
   ],
   "source": [
    "import json\n",
    "\n",
    "mu = expected_returns.capm_return(df_pivot.set_index('Date'))\n",
    "\n",
    "# EMA Historical Return: expected_returns.ema_historical_return(df_pivot.set_index('Date'))\n",
    "# Mean Historical Return: expected_returns.mean_historical_return(df_pivot.set_index('Date'))\n",
    "\n",
    "print(f'Expected returns for each stock: {mu} \\n')\n",
    "\n",
    "S = risk_models.CovarianceShrinkage(df_pivot.set_index('Date')).ledoit_wolf()\n",
    "\n",
    "ef = EfficientFrontier(mu, S, weight_bounds=(0, 1))\n",
    "ef.min_volatility()\n",
    "weights_min_volatility = ef.clean_weights()\n",
    "\n",
    "print(f'Portfolio weights or min colatility optimization (lowest level of risk): {json.dumps(weights_min_volatility, indent=4, sort_keys=True)} \\n')\n",
    "print(f'Portfolio performance: {ef.portfolio_performance(verbose=True, risk_free_rate=0.07161)} \\n')\n",
    "# Risk-free rate : 10Y Indian bond rate as on 31-July-2021 is 7.161%\n",
    "\n",
    "pd.Series(weights_min_volatility).plot.barh(title = 'Optimal Portfolio Weights (min volatility)')\n",
    "\n",
    "ef2 = EfficientFrontier(mu, S, weight_bounds=(0, 1))\n",
    "ef2.max_sharpe()\n",
    "weights_max_sharpe = ef.clean_weights()\n",
    "\n",
    "print(f'Portfolio weights for maxSharpe optimization (highest return-per-risk): {json.dumps(weights_max_sharpe, indent=4, sort_keys=True)} \\n')\n",
    "print(f'Portfolio performance: {ef2.portfolio_performance(verbose=True, risk_free_rate=0.07161)} \\n')"
   ]
  },
  {
   "cell_type": "code",
   "execution_count": 149,
   "metadata": {},
   "outputs": [
    {
     "name": "stdout",
     "output_type": "stream",
     "text": [
      "Expected annual return: 24.1%\n",
      "Annual volatility: 11.9%\n",
      "Sharpe Ratio: 1.86\n"
     ]
    }
   ],
   "source": [
    "ef = EfficientFrontier(mu, S)\n",
    "ef.max_sharpe()\n",
    "weight_arr = ef.weights\n",
    "ef.portfolio_performance(verbose=True);"
   ]
  },
  {
   "cell_type": "code",
   "execution_count": 150,
   "metadata": {},
   "outputs": [
    {
     "data": {
      "text/html": [
       "<div>\n",
       "<style scoped>\n",
       "    .dataframe tbody tr th:only-of-type {\n",
       "        vertical-align: middle;\n",
       "    }\n",
       "\n",
       "    .dataframe tbody tr th {\n",
       "        vertical-align: top;\n",
       "    }\n",
       "\n",
       "    .dataframe thead th {\n",
       "        text-align: right;\n",
       "    }\n",
       "</style>\n",
       "<table border=\"1\" class=\"dataframe\">\n",
       "  <thead>\n",
       "    <tr style=\"text-align: right;\">\n",
       "      <th>Ticker</th>\n",
       "      <th>COALINDIA.NS</th>\n",
       "      <th>INFY.NS</th>\n",
       "      <th>IRCTC.NS</th>\n",
       "      <th>ITC.NS</th>\n",
       "      <th>LICI.NS</th>\n",
       "      <th>LTIM.NS</th>\n",
       "      <th>MARICO.NS</th>\n",
       "      <th>TCS.NS</th>\n",
       "    </tr>\n",
       "    <tr>\n",
       "      <th>Date</th>\n",
       "      <th></th>\n",
       "      <th></th>\n",
       "      <th></th>\n",
       "      <th></th>\n",
       "      <th></th>\n",
       "      <th></th>\n",
       "      <th></th>\n",
       "      <th></th>\n",
       "    </tr>\n",
       "  </thead>\n",
       "  <tbody>\n",
       "    <tr>\n",
       "      <th>2022-05-18</th>\n",
       "      <td>0.005419</td>\n",
       "      <td>-0.006092</td>\n",
       "      <td>-0.016687</td>\n",
       "      <td>0.007933</td>\n",
       "      <td>0.001257</td>\n",
       "      <td>-0.015846</td>\n",
       "      <td>0.041149</td>\n",
       "      <td>-0.000811</td>\n",
       "    </tr>\n",
       "    <tr>\n",
       "      <th>2022-05-19</th>\n",
       "      <td>-0.023444</td>\n",
       "      <td>-0.054366</td>\n",
       "      <td>-0.025158</td>\n",
       "      <td>0.033171</td>\n",
       "      <td>-0.040509</td>\n",
       "      <td>-0.052717</td>\n",
       "      <td>-0.025298</td>\n",
       "      <td>-0.054178</td>\n",
       "    </tr>\n",
       "    <tr>\n",
       "      <th>2022-05-20</th>\n",
       "      <td>0.026214</td>\n",
       "      <td>0.019620</td>\n",
       "      <td>0.011300</td>\n",
       "      <td>0.015781</td>\n",
       "      <td>-0.017482</td>\n",
       "      <td>0.012939</td>\n",
       "      <td>0.035357</td>\n",
       "      <td>0.009519</td>\n",
       "    </tr>\n",
       "    <tr>\n",
       "      <th>2022-05-23</th>\n",
       "      <td>-0.008873</td>\n",
       "      <td>0.009106</td>\n",
       "      <td>-0.013590</td>\n",
       "      <td>-0.019643</td>\n",
       "      <td>-0.011257</td>\n",
       "      <td>0.025634</td>\n",
       "      <td>0.005865</td>\n",
       "      <td>0.008731</td>\n",
       "    </tr>\n",
       "    <tr>\n",
       "      <th>2022-05-24</th>\n",
       "      <td>-0.010581</td>\n",
       "      <td>-0.018660</td>\n",
       "      <td>-0.003215</td>\n",
       "      <td>-0.013297</td>\n",
       "      <td>0.007651</td>\n",
       "      <td>-0.033035</td>\n",
       "      <td>-0.005549</td>\n",
       "      <td>-0.010160</td>\n",
       "    </tr>\n",
       "  </tbody>\n",
       "</table>\n",
       "</div>"
      ],
      "text/plain": [
       "Ticker      COALINDIA.NS   INFY.NS  IRCTC.NS    ITC.NS   LICI.NS   LTIM.NS  \\\n",
       "Date                                                                         \n",
       "2022-05-18      0.005419 -0.006092 -0.016687  0.007933  0.001257 -0.015846   \n",
       "2022-05-19     -0.023444 -0.054366 -0.025158  0.033171 -0.040509 -0.052717   \n",
       "2022-05-20      0.026214  0.019620  0.011300  0.015781 -0.017482  0.012939   \n",
       "2022-05-23     -0.008873  0.009106 -0.013590 -0.019643 -0.011257  0.025634   \n",
       "2022-05-24     -0.010581 -0.018660 -0.003215 -0.013297  0.007651 -0.033035   \n",
       "\n",
       "Ticker      MARICO.NS    TCS.NS  \n",
       "Date                             \n",
       "2022-05-18   0.041149 -0.000811  \n",
       "2022-05-19  -0.025298 -0.054178  \n",
       "2022-05-20   0.035357  0.009519  \n",
       "2022-05-23   0.005865  0.008731  \n",
       "2022-05-24  -0.005549 -0.010160  "
      ]
     },
     "execution_count": 150,
     "metadata": {},
     "output_type": "execute_result"
    }
   ],
   "source": [
    "returns = expected_returns.returns_from_prices(df_pivot.set_index('Date')).dropna()\n",
    "returns.head()"
   ]
  },
  {
   "cell_type": "code",
   "execution_count": 151,
   "metadata": {},
   "outputs": [
    {
     "data": {
      "image/png": "[encoded data removed]",
      "text/plain": [
       "<Figure size 432x288 with 1 Axes>"
      ]
     },
     "metadata": {
      "needs_background": "light"
     },
     "output_type": "display_data"
    }
   ],
   "source": [
    "# computing CVaR\n",
    "\n",
    "portfolio_rets = (returns * weight_arr).sum(axis=1)\n",
    "portfolio_rets.hist(bins=40);"
   ]
  },
  {
   "cell_type": "code",
   "execution_count": 152,
   "metadata": {},
   "outputs": [
    {
     "name": "stdout",
     "output_type": "stream",
     "text": [
      "VaR: -1.53%\n",
      "CVaR: -2.28%\n"
     ]
    }
   ],
   "source": [
    "# VaR\n",
    "\n",
    "var = portfolio_rets.quantile(0.05)\n",
    "cvar = portfolio_rets[portfolio_rets <= var].mean()\n",
    "print(\"VaR: {:.2f}%\".format(100*var))\n",
    "print(\"CVaR: {:.2f}%\".format(100*cvar))"
   ]
  },
  {
   "cell_type": "code",
   "execution_count": 153,
   "metadata": {},
   "outputs": [
    {
     "name": "stdout",
     "output_type": "stream",
     "text": [
      "Expected annual return: 29.5%\n",
      "Conditional Value at Risk: 1.53%\n"
     ]
    },
    {
     "data": {
      "text/plain": [
       "(0.2945677260302866, 0.01530283209786677)"
      ]
     },
     "execution_count": 153,
     "metadata": {},
     "output_type": "execute_result"
    }
   ],
   "source": [
    "from pypfopt import EfficientCVaR\n",
    "\n",
    "ec = EfficientCVaR(mu, returns)\n",
    "ec.min_cvar()\n",
    "ec.portfolio_performance(verbose=True)"
   ]
  },
  {
   "cell_type": "markdown",
   "metadata": {},
   "source": [
    "# Efficient Frontier"
   ]
  },
  {
   "cell_type": "code",
   "execution_count": 154,
   "metadata": {},
   "outputs": [
    {
     "name": "stdout",
     "output_type": "stream",
     "text": [
      "Expected annual return: 23.5%\n",
      "Annual volatility: 11.6%\n",
      "Sharpe Ratio: 1.41\n"
     ]
    },
    {
     "data": {
      "text/plain": [
       "(0.23456743269655678, 0.11564975800661538, 1.4090598675289516)"
      ]
     },
     "execution_count": 154,
     "metadata": {},
     "output_type": "execute_result"
    }
   ],
   "source": [
    "from pypfopt import CLA, plotting\n",
    "\n",
    "cla = CLA(mu, S)\n",
    "cla.max_sharpe()\n",
    "cla.portfolio_performance(verbose=True, risk_free_rate=0.07161)"
   ]
  },
  {
   "cell_type": "code",
   "execution_count": 155,
   "metadata": {},
   "outputs": [
    {
     "data": {
      "image/png": "[encoded data removed]",
      "text/plain": [
       "<Figure size 432x288 with 1 Axes>"
      ]
     },
     "metadata": {
      "needs_background": "light"
     },
     "output_type": "display_data"
    }
   ],
   "source": [
    "ax = plotting.plot_efficient_frontier(cla, showfig=False)"
   ]
  },
  {
   "cell_type": "code",
   "execution_count": 156,
   "metadata": {},
   "outputs": [
    {
     "name": "stdout",
     "output_type": "stream",
     "text": [
      "Sample portfolio returns: [0.27266792 0.23733175 0.20977239 ... 0.18296832 0.28848107 0.27259679]\n",
      "Sample portfolio volatilities: 0       0.162072\n",
      "1       0.177599\n",
      "2       0.122765\n",
      "3       0.146777\n",
      "4       0.131300\n",
      "          ...   \n",
      "9995    0.187399\n",
      "9996    0.219442\n",
      "9997    0.114098\n",
      "9998    0.175903\n",
      "9999    0.152980\n",
      "Length: 10000, dtype: float64\n"
     ]
    }
   ],
   "source": [
    "n_samples = 10000\n",
    "w = np.random.dirichlet(np.ones(len(mu)), n_samples)\n",
    "rets = w.dot(mu)\n",
    "stds = np.sqrt((w.T * (S @ w.T)).sum(axis=0))\n",
    "sharpes = rets / stds\n",
    "\n",
    "print(\"Sample portfolio returns:\", rets)\n",
    "print(\"Sample portfolio volatilities:\", stds)"
   ]
  },
  {
   "cell_type": "code",
   "execution_count": 157,
   "metadata": {},
   "outputs": [
    {
     "data": {
      "image/png": "[encoded data removed]",
      "text/plain": [
       "<Figure size 432x288 with 1 Axes>"
      ]
     },
     "metadata": {
      "needs_background": "light"
     },
     "output_type": "display_data"
    }
   ],
   "source": [
    "# Plot efficient frontier with Monte Carlo sim\n",
    "ef = EfficientFrontier(mu, S)\n",
    "\n",
    "fig, ax = plt.subplots()\n",
    "plotting.plot_efficient_frontier(ef, ax=ax, show_assets=False)\n",
    "\n",
    "# Plot random portfolios\n",
    "ax.scatter(stds, rets, marker=\".\", c=sharpes, cmap=\"viridis_r\")\n",
    "\n",
    "# Find and plot the tangency portfolio\n",
    "ef2 = EfficientFrontier(mu, S)\n",
    "ef2.max_sharpe()\n",
    "ret_tangent, std_tangent, _ = ef2.portfolio_performance()\n",
    "ax.scatter(std_tangent, ret_tangent, marker=\"*\", s=100, c=\"r\", label=\"Max Sharpe\")\n",
    "\n",
    "# Format\n",
    "ax.set_title(\"PyPortfolioOpt: Efficient Frontier with random portfolios\")\n",
    "ax.legend()\n",
    "plt.tight_layout()\n",
    "plt.show()"
   ]
  },
  {
   "cell_type": "markdown",
   "metadata": {},
   "source": [
    "# Discrete Capital Allocation"
   ]
  },
  {
   "cell_type": "code",
   "execution_count": 158,
   "metadata": {},
   "outputs": [
    {
     "data": {
      "text/plain": [
       "Ticker\n",
       "COALINDIA.NS     229.250000\n",
       "INFY.NS         1355.699951\n",
       "IRCTC.NS         640.650024\n",
       "ITC.NS           465.700012\n",
       "LICI.NS          639.950012\n",
       "LTIM.NS         4891.649902\n",
       "MARICO.NS        560.549988\n",
       "TCS.NS          3421.449951\n",
       "Name: 2023-07-31, dtype: float64"
      ]
     },
     "execution_count": 158,
     "metadata": {},
     "output_type": "execute_result"
    }
   ],
   "source": [
    "df_pivot.set_index('Date').iloc[-1]"
   ]
  },
  {
   "cell_type": "code",
   "execution_count": 159,
   "metadata": {},
   "outputs": [
    {
     "name": "stdout",
     "output_type": "stream",
     "text": [
      "Portfolio weights for max Sharpe optimisation (highest return-per-risk): {\n",
      "    \"COALINDIA.NS\": 0.14797,\n",
      "    \"INFY.NS\": 0.04286,\n",
      "    \"IRCTC.NS\": 0.18187,\n",
      "    \"ITC.NS\": 0.06757,\n",
      "    \"LICI.NS\": 0.28198,\n",
      "    \"LTIM.NS\": 0.16919,\n",
      "    \"MARICO.NS\": 0.07686,\n",
      "    \"TCS.NS\": 0.0317\n",
      "} \n",
      "\n"
     ]
    }
   ],
   "source": [
    "print(f'Portfolio weights for max Sharpe optimisation (highest return-per-risk): {json.dumps(weights_max_sharpe, indent=4, sort_keys=True)} \\n')"
   ]
  },
  {
   "cell_type": "code",
   "execution_count": 160,
   "metadata": {},
   "outputs": [
    {
     "name": "stderr",
     "output_type": "stream",
     "text": [
      "C:\\Users\\tahze\\AppData\\Local\\Temp\\ipykernel_22872\\144812679.py:2: SettingWithCopyWarning: \n",
      "A value is trying to be set on a copy of a slice from a DataFrame.\n",
      "Try using .loc[row_indexer,col_indexer] = value instead\n",
      "\n",
      "See the caveats in the documentation: https://pandas.pydata.org/pandas-docs/stable/user_guide/indexing.html#returning-a-view-versus-a-copy\n",
      "  df_last_day['max_sharpe_weight']= df_last_day['Ticker'].apply(lambda x:weights_max_sharpe[x])\n"
     ]
    }
   ],
   "source": [
    "df_last_day = stocks_prices[filter_last_date]\n",
    "df_last_day['max_sharpe_weight']= df_last_day['Ticker'].apply(lambda x:weights_max_sharpe[x])"
   ]
  },
  {
   "cell_type": "code",
   "execution_count": 161,
   "metadata": {},
   "outputs": [
    {
     "name": "stderr",
     "output_type": "stream",
     "text": [
      "C:\\Users\\tahze\\AppData\\Local\\Temp\\ipykernel_22872\\2567886643.py:1: SettingWithCopyWarning: \n",
      "A value is trying to be set on a copy of a slice from a DataFrame.\n",
      "Try using .loc[row_indexer,col_indexer] = value instead\n",
      "\n",
      "See the caveats in the documentation: https://pandas.pydata.org/pandas-docs/stable/user_guide/indexing.html#returning-a-view-versus-a-copy\n",
      "  df_last_day['stock_investment_amount'] = CAPITAL*df_last_day['max_sharpe_weight'] /df_last_day['Close']\n"
     ]
    }
   ],
   "source": [
    "df_last_day['stock_investment_amount'] = CAPITAL*df_last_day['max_sharpe_weight'] /df_last_day['Close']"
   ]
  },
  {
   "cell_type": "code",
   "execution_count": 162,
   "metadata": {},
   "outputs": [
    {
     "data": {
      "text/html": [
       "<div>\n",
       "<style scoped>\n",
       "    .dataframe tbody tr th:only-of-type {\n",
       "        vertical-align: middle;\n",
       "    }\n",
       "\n",
       "    .dataframe tbody tr th {\n",
       "        vertical-align: top;\n",
       "    }\n",
       "\n",
       "    .dataframe thead th {\n",
       "        text-align: right;\n",
       "    }\n",
       "</style>\n",
       "<table border=\"1\" class=\"dataframe\">\n",
       "  <thead>\n",
       "    <tr style=\"text-align: right;\">\n",
       "      <th></th>\n",
       "      <th>Close</th>\n",
       "      <th>Ticker</th>\n",
       "      <th>Date</th>\n",
       "      <th>max_sharpe_weight</th>\n",
       "      <th>stock_investment_amount</th>\n",
       "    </tr>\n",
       "  </thead>\n",
       "  <tbody>\n",
       "    <tr>\n",
       "      <th>5208</th>\n",
       "      <td>3421.449951</td>\n",
       "      <td>TCS.NS</td>\n",
       "      <td>2023-07-31</td>\n",
       "      <td>0.03170</td>\n",
       "      <td>0.092651</td>\n",
       "    </tr>\n",
       "    <tr>\n",
       "      <th>12140</th>\n",
       "      <td>465.700012</td>\n",
       "      <td>ITC.NS</td>\n",
       "      <td>2023-07-31</td>\n",
       "      <td>0.06757</td>\n",
       "      <td>1.450934</td>\n",
       "    </tr>\n",
       "    <tr>\n",
       "      <th>19076</th>\n",
       "      <td>1355.699951</td>\n",
       "      <td>INFY.NS</td>\n",
       "      <td>2023-07-31</td>\n",
       "      <td>0.04286</td>\n",
       "      <td>0.316147</td>\n",
       "    </tr>\n",
       "    <tr>\n",
       "      <th>19377</th>\n",
       "      <td>639.950012</td>\n",
       "      <td>LICI.NS</td>\n",
       "      <td>2023-07-31</td>\n",
       "      <td>0.28198</td>\n",
       "      <td>4.406282</td>\n",
       "    </tr>\n",
       "    <tr>\n",
       "      <th>26226</th>\n",
       "      <td>560.549988</td>\n",
       "      <td>MARICO.NS</td>\n",
       "      <td>2023-07-31</td>\n",
       "      <td>0.07686</td>\n",
       "      <td>1.371153</td>\n",
       "    </tr>\n",
       "    <tr>\n",
       "      <th>27170</th>\n",
       "      <td>640.650024</td>\n",
       "      <td>IRCTC.NS</td>\n",
       "      <td>2023-07-31</td>\n",
       "      <td>0.18187</td>\n",
       "      <td>2.838835</td>\n",
       "    </tr>\n",
       "    <tr>\n",
       "      <th>28907</th>\n",
       "      <td>4891.649902</td>\n",
       "      <td>LTIM.NS</td>\n",
       "      <td>2023-07-31</td>\n",
       "      <td>0.16919</td>\n",
       "      <td>0.345875</td>\n",
       "    </tr>\n",
       "    <tr>\n",
       "      <th>32048</th>\n",
       "      <td>229.250000</td>\n",
       "      <td>COALINDIA.NS</td>\n",
       "      <td>2023-07-31</td>\n",
       "      <td>0.14797</td>\n",
       "      <td>6.454526</td>\n",
       "    </tr>\n",
       "  </tbody>\n",
       "</table>\n",
       "</div>"
      ],
      "text/plain": [
       "             Close        Ticker        Date  max_sharpe_weight  \\\n",
       "5208   3421.449951        TCS.NS  2023-07-31            0.03170   \n",
       "12140   465.700012        ITC.NS  2023-07-31            0.06757   \n",
       "19076  1355.699951       INFY.NS  2023-07-31            0.04286   \n",
       "19377   639.950012       LICI.NS  2023-07-31            0.28198   \n",
       "26226   560.549988     MARICO.NS  2023-07-31            0.07686   \n",
       "27170   640.650024      IRCTC.NS  2023-07-31            0.18187   \n",
       "28907  4891.649902       LTIM.NS  2023-07-31            0.16919   \n",
       "32048   229.250000  COALINDIA.NS  2023-07-31            0.14797   \n",
       "\n",
       "       stock_investment_amount  \n",
       "5208                  0.092651  \n",
       "12140                 1.450934  \n",
       "19076                 0.316147  \n",
       "19377                 4.406282  \n",
       "26226                 1.371153  \n",
       "27170                 2.838835  \n",
       "28907                 0.345875  \n",
       "32048                 6.454526  "
      ]
     },
     "execution_count": 162,
     "metadata": {},
     "output_type": "execute_result"
    }
   ],
   "source": [
    "df_last_day[['Close','Ticker','Date','max_sharpe_weight','stock_investment_amount']]"
   ]
  },
  {
   "cell_type": "code",
   "execution_count": 163,
   "metadata": {},
   "outputs": [
    {
     "name": "stdout",
     "output_type": "stream",
     "text": [
      "Discrete allocation for the initial investment Rs. 10000 performed with Rs. 94.60 leftover\n"
     ]
    },
    {
     "data": {
      "text/plain": [
       "{'COALINDIA.NS': 6,\n",
       " 'INFY.NS': 1,\n",
       " 'IRCTC.NS': 3,\n",
       " 'ITC.NS': 2,\n",
       " 'LICI.NS': 5,\n",
       " 'MARICO.NS': 2}"
      ]
     },
     "execution_count": 163,
     "metadata": {},
     "output_type": "execute_result"
    }
   ],
   "source": [
    "from pypfopt import DiscreteAllocation\n",
    "\n",
    "latest_prices = df_pivot.set_index('Date').iloc[-1]\n",
    "disc_allocation = DiscreteAllocation(weights_max_sharpe, latest_prices, total_portfolio_value = CAPITAL, short_ratio=0.0)\n",
    "alloc, leftover = disc_allocation.lp_portfolio()\n",
    "print(f\"Discrete allocation for the initial investment Rs. {CAPITAL} performed with Rs. {leftover:.2f} leftover\")\n",
    "alloc"
   ]
  },
  {
   "cell_type": "code",
   "execution_count": null,
   "metadata": {},
   "outputs": [],
   "source": []
  }
 ],
 "metadata": {
  "kernelspec": {
   "display_name": "Python 3",
   "language": "python",
   "name": "python3"
  },
  "language_info": {
   "codemirror_mode": {
    "name": "ipython",
    "version": 3
   },
   "file_extension": ".py",
   "mimetype": "text/x-python",
   "name": "python",
   "nbconvert_exporter": "python",
   "pygments_lexer": "ipython3",
   "version": "3.10.2"
  },
  "orig_nbformat": 4
 },
 "nbformat": 4,
 "nbformat_minor": 2
}
