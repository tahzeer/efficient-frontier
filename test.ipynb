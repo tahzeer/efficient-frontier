{
 "cells": [
  {
   "cell_type": "markdown",
   "metadata": {},
   "source": [
    "Investopedia Article on [Mordern Portfolio Theory](https://www.investopedia.com/terms/m/modernportfoliotheory.asp)"
   ]
  },
  {
   "cell_type": "code",
   "execution_count": 2,
   "metadata": {},
   "outputs": [],
   "source": [
    "import yfinance as yf\n",
    "import numpy as np"
   ]
  },
  {
   "cell_type": "code",
   "execution_count": 3,
   "metadata": {},
   "outputs": [
    {
     "name": "stdout",
     "output_type": "stream",
     "text": [
      "[*********************100%***********************]  3 of 3 completed\n"
     ]
    }
   ],
   "source": [
    "# using the top 3 NSE stocks on basis of market cap\n",
    "# added NSE:ITC after writing scalable code for 2 stock portfolio\n",
    "\n",
    "df = yf.download(['RELIANCE.NS', 'HDFCBANK.NS', 'ITC.NS'], start = \"2002-12-01\", end = \"2022-12-01\")"
   ]
  },
  {
   "cell_type": "code",
   "execution_count": 4,
   "metadata": {},
   "outputs": [
    {
     "data": {
      "text/html": [
       "<div>\n",
       "<style scoped>\n",
       "    .dataframe tbody tr th:only-of-type {\n",
       "        vertical-align: middle;\n",
       "    }\n",
       "\n",
       "    .dataframe tbody tr th {\n",
       "        vertical-align: top;\n",
       "    }\n",
       "\n",
       "    .dataframe thead tr th {\n",
       "        text-align: left;\n",
       "    }\n",
       "\n",
       "    .dataframe thead tr:last-of-type th {\n",
       "        text-align: right;\n",
       "    }\n",
       "</style>\n",
       "<table border=\"1\" class=\"dataframe\">\n",
       "  <thead>\n",
       "    <tr>\n",
       "      <th></th>\n",
       "      <th colspan=\"3\" halign=\"left\">Adj Close</th>\n",
       "      <th colspan=\"3\" halign=\"left\">Close</th>\n",
       "      <th colspan=\"3\" halign=\"left\">High</th>\n",
       "      <th colspan=\"3\" halign=\"left\">Low</th>\n",
       "      <th colspan=\"3\" halign=\"left\">Open</th>\n",
       "      <th colspan=\"3\" halign=\"left\">Volume</th>\n",
       "    </tr>\n",
       "    <tr>\n",
       "      <th></th>\n",
       "      <th>HDFCBANK.NS</th>\n",
       "      <th>ITC.NS</th>\n",
       "      <th>RELIANCE.NS</th>\n",
       "      <th>HDFCBANK.NS</th>\n",
       "      <th>ITC.NS</th>\n",
       "      <th>RELIANCE.NS</th>\n",
       "      <th>HDFCBANK.NS</th>\n",
       "      <th>ITC.NS</th>\n",
       "      <th>RELIANCE.NS</th>\n",
       "      <th>HDFCBANK.NS</th>\n",
       "      <th>ITC.NS</th>\n",
       "      <th>RELIANCE.NS</th>\n",
       "      <th>HDFCBANK.NS</th>\n",
       "      <th>ITC.NS</th>\n",
       "      <th>RELIANCE.NS</th>\n",
       "      <th>HDFCBANK.NS</th>\n",
       "      <th>ITC.NS</th>\n",
       "      <th>RELIANCE.NS</th>\n",
       "    </tr>\n",
       "    <tr>\n",
       "      <th>Date</th>\n",
       "      <th></th>\n",
       "      <th></th>\n",
       "      <th></th>\n",
       "      <th></th>\n",
       "      <th></th>\n",
       "      <th></th>\n",
       "      <th></th>\n",
       "      <th></th>\n",
       "      <th></th>\n",
       "      <th></th>\n",
       "      <th></th>\n",
       "      <th></th>\n",
       "      <th></th>\n",
       "      <th></th>\n",
       "      <th></th>\n",
       "      <th></th>\n",
       "      <th></th>\n",
       "      <th></th>\n",
       "    </tr>\n",
       "  </thead>\n",
       "  <tbody>\n",
       "    <tr>\n",
       "      <th>2002-12-02</th>\n",
       "      <td>16.653448</td>\n",
       "      <td>9.127383</td>\n",
       "      <td>37.359318</td>\n",
       "      <td>19.490000</td>\n",
       "      <td>14.447777</td>\n",
       "      <td>45.574585</td>\n",
       "      <td>19.590000</td>\n",
       "      <td>14.522222</td>\n",
       "      <td>45.976875</td>\n",
       "      <td>19.410000</td>\n",
       "      <td>14.155555</td>\n",
       "      <td>44.561131</td>\n",
       "      <td>19.590000</td>\n",
       "      <td>14.225555</td>\n",
       "      <td>44.855110</td>\n",
       "      <td>736330</td>\n",
       "      <td>16884315.0</td>\n",
       "      <td>38180121.0</td>\n",
       "    </tr>\n",
       "    <tr>\n",
       "      <th>2002-12-03</th>\n",
       "      <td>16.670540</td>\n",
       "      <td>9.125279</td>\n",
       "      <td>36.953438</td>\n",
       "      <td>19.510000</td>\n",
       "      <td>14.444444</td>\n",
       "      <td>45.079460</td>\n",
       "      <td>19.549999</td>\n",
       "      <td>14.642222</td>\n",
       "      <td>46.688614</td>\n",
       "      <td>19.400000</td>\n",
       "      <td>14.377777</td>\n",
       "      <td>44.793221</td>\n",
       "      <td>19.520000</td>\n",
       "      <td>14.566666</td>\n",
       "      <td>46.100655</td>\n",
       "      <td>1080260</td>\n",
       "      <td>15716160.0</td>\n",
       "      <td>50562967.0</td>\n",
       "    </tr>\n",
       "    <tr>\n",
       "      <th>2002-12-04</th>\n",
       "      <td>16.730349</td>\n",
       "      <td>9.092288</td>\n",
       "      <td>37.099308</td>\n",
       "      <td>19.580000</td>\n",
       "      <td>14.392222</td>\n",
       "      <td>45.257397</td>\n",
       "      <td>19.900000</td>\n",
       "      <td>14.653333</td>\n",
       "      <td>45.543640</td>\n",
       "      <td>19.340000</td>\n",
       "      <td>14.266666</td>\n",
       "      <td>44.375458</td>\n",
       "      <td>19.340000</td>\n",
       "      <td>14.455555</td>\n",
       "      <td>45.334759</td>\n",
       "      <td>1510880</td>\n",
       "      <td>13467375.0</td>\n",
       "      <td>59258918.0</td>\n",
       "    </tr>\n",
       "    <tr>\n",
       "      <th>2002-12-05</th>\n",
       "      <td>16.905508</td>\n",
       "      <td>9.119662</td>\n",
       "      <td>37.340294</td>\n",
       "      <td>19.785000</td>\n",
       "      <td>14.435555</td>\n",
       "      <td>45.551376</td>\n",
       "      <td>19.889999</td>\n",
       "      <td>14.532222</td>\n",
       "      <td>46.092918</td>\n",
       "      <td>19.459999</td>\n",
       "      <td>14.355555</td>\n",
       "      <td>45.257397</td>\n",
       "      <td>19.680000</td>\n",
       "      <td>14.400000</td>\n",
       "      <td>45.597794</td>\n",
       "      <td>473590</td>\n",
       "      <td>3596130.0</td>\n",
       "      <td>42249653.0</td>\n",
       "    </tr>\n",
       "    <tr>\n",
       "      <th>2002-12-06</th>\n",
       "      <td>16.943966</td>\n",
       "      <td>9.234781</td>\n",
       "      <td>37.562252</td>\n",
       "      <td>19.830000</td>\n",
       "      <td>14.617777</td>\n",
       "      <td>45.822147</td>\n",
       "      <td>20.080000</td>\n",
       "      <td>14.666666</td>\n",
       "      <td>46.263119</td>\n",
       "      <td>19.549999</td>\n",
       "      <td>14.266666</td>\n",
       "      <td>45.342495</td>\n",
       "      <td>20.000000</td>\n",
       "      <td>14.266666</td>\n",
       "      <td>45.659683</td>\n",
       "      <td>584710</td>\n",
       "      <td>6986925.0</td>\n",
       "      <td>23717620.0</td>\n",
       "    </tr>\n",
       "    <tr>\n",
       "      <th>...</th>\n",
       "      <td>...</td>\n",
       "      <td>...</td>\n",
       "      <td>...</td>\n",
       "      <td>...</td>\n",
       "      <td>...</td>\n",
       "      <td>...</td>\n",
       "      <td>...</td>\n",
       "      <td>...</td>\n",
       "      <td>...</td>\n",
       "      <td>...</td>\n",
       "      <td>...</td>\n",
       "      <td>...</td>\n",
       "      <td>...</td>\n",
       "      <td>...</td>\n",
       "      <td>...</td>\n",
       "      <td>...</td>\n",
       "      <td>...</td>\n",
       "      <td>...</td>\n",
       "    </tr>\n",
       "    <tr>\n",
       "      <th>2022-11-24</th>\n",
       "      <td>1606.724243</td>\n",
       "      <td>333.405396</td>\n",
       "      <td>2579.100098</td>\n",
       "      <td>1625.150024</td>\n",
       "      <td>340.750000</td>\n",
       "      <td>2579.100098</td>\n",
       "      <td>1632.000000</td>\n",
       "      <td>342.500000</td>\n",
       "      <td>2594.000000</td>\n",
       "      <td>1599.150024</td>\n",
       "      <td>337.549988</td>\n",
       "      <td>2548.199951</td>\n",
       "      <td>1605.949951</td>\n",
       "      <td>339.799988</td>\n",
       "      <td>2566.000000</td>\n",
       "      <td>8598980</td>\n",
       "      <td>8140857.0</td>\n",
       "      <td>4333225.0</td>\n",
       "    </tr>\n",
       "    <tr>\n",
       "      <th>2022-11-25</th>\n",
       "      <td>1599.309326</td>\n",
       "      <td>332.965088</td>\n",
       "      <td>2617.600098</td>\n",
       "      <td>1617.650024</td>\n",
       "      <td>340.299988</td>\n",
       "      <td>2617.600098</td>\n",
       "      <td>1631.699951</td>\n",
       "      <td>341.899994</td>\n",
       "      <td>2624.899902</td>\n",
       "      <td>1614.099976</td>\n",
       "      <td>337.799988</td>\n",
       "      <td>2582.100098</td>\n",
       "      <td>1629.699951</td>\n",
       "      <td>341.000000</td>\n",
       "      <td>2589.000000</td>\n",
       "      <td>4205248</td>\n",
       "      <td>6933254.0</td>\n",
       "      <td>3391988.0</td>\n",
       "    </tr>\n",
       "    <tr>\n",
       "      <th>2022-11-28</th>\n",
       "      <td>1582.106567</td>\n",
       "      <td>332.720490</td>\n",
       "      <td>2707.550049</td>\n",
       "      <td>1600.250000</td>\n",
       "      <td>340.049988</td>\n",
       "      <td>2707.550049</td>\n",
       "      <td>1607.449951</td>\n",
       "      <td>341.750000</td>\n",
       "      <td>2721.050049</td>\n",
       "      <td>1594.050049</td>\n",
       "      <td>338.750000</td>\n",
       "      <td>2502.000000</td>\n",
       "      <td>1602.900024</td>\n",
       "      <td>340.000000</td>\n",
       "      <td>2608.899902</td>\n",
       "      <td>8052990</td>\n",
       "      <td>9902739.0</td>\n",
       "      <td>14549929.0</td>\n",
       "    </tr>\n",
       "    <tr>\n",
       "      <th>2022-11-29</th>\n",
       "      <td>1579.733765</td>\n",
       "      <td>334.921967</td>\n",
       "      <td>2712.199951</td>\n",
       "      <td>1597.849976</td>\n",
       "      <td>342.299988</td>\n",
       "      <td>2712.199951</td>\n",
       "      <td>1612.349976</td>\n",
       "      <td>345.000000</td>\n",
       "      <td>2731.649902</td>\n",
       "      <td>1592.849976</td>\n",
       "      <td>340.000000</td>\n",
       "      <td>2694.000000</td>\n",
       "      <td>1597.250000</td>\n",
       "      <td>340.000000</td>\n",
       "      <td>2703.949951</td>\n",
       "      <td>6319118</td>\n",
       "      <td>10189855.0</td>\n",
       "      <td>5103687.0</td>\n",
       "    </tr>\n",
       "    <tr>\n",
       "      <th>2022-11-30</th>\n",
       "      <td>1590.213501</td>\n",
       "      <td>332.671570</td>\n",
       "      <td>2731.350098</td>\n",
       "      <td>1608.449951</td>\n",
       "      <td>340.000000</td>\n",
       "      <td>2731.350098</td>\n",
       "      <td>1612.900024</td>\n",
       "      <td>344.149994</td>\n",
       "      <td>2745.449951</td>\n",
       "      <td>1597.099976</td>\n",
       "      <td>339.000000</td>\n",
       "      <td>2698.199951</td>\n",
       "      <td>1597.099976</td>\n",
       "      <td>341.250000</td>\n",
       "      <td>2712.500000</td>\n",
       "      <td>7592403</td>\n",
       "      <td>22556502.0</td>\n",
       "      <td>12075137.0</td>\n",
       "    </tr>\n",
       "  </tbody>\n",
       "</table>\n",
       "<p>4966 rows × 18 columns</p>\n",
       "</div>"
      ],
      "text/plain": [
       "              Adj Close                                 Close              \\\n",
       "            HDFCBANK.NS      ITC.NS  RELIANCE.NS  HDFCBANK.NS      ITC.NS   \n",
       "Date                                                                        \n",
       "2002-12-02    16.653448    9.127383    37.359318    19.490000   14.447777   \n",
       "2002-12-03    16.670540    9.125279    36.953438    19.510000   14.444444   \n",
       "2002-12-04    16.730349    9.092288    37.099308    19.580000   14.392222   \n",
       "2002-12-05    16.905508    9.119662    37.340294    19.785000   14.435555   \n",
       "2002-12-06    16.943966    9.234781    37.562252    19.830000   14.617777   \n",
       "...                 ...         ...          ...          ...         ...   \n",
       "2022-11-24  1606.724243  333.405396  2579.100098  1625.150024  340.750000   \n",
       "2022-11-25  1599.309326  332.965088  2617.600098  1617.650024  340.299988   \n",
       "2022-11-28  1582.106567  332.720490  2707.550049  1600.250000  340.049988   \n",
       "2022-11-29  1579.733765  334.921967  2712.199951  1597.849976  342.299988   \n",
       "2022-11-30  1590.213501  332.671570  2731.350098  1608.449951  340.000000   \n",
       "\n",
       "                                High                                   Low  \\\n",
       "            RELIANCE.NS  HDFCBANK.NS      ITC.NS  RELIANCE.NS  HDFCBANK.NS   \n",
       "Date                                                                         \n",
       "2002-12-02    45.574585    19.590000   14.522222    45.976875    19.410000   \n",
       "2002-12-03    45.079460    19.549999   14.642222    46.688614    19.400000   \n",
       "2002-12-04    45.257397    19.900000   14.653333    45.543640    19.340000   \n",
       "2002-12-05    45.551376    19.889999   14.532222    46.092918    19.459999   \n",
       "2002-12-06    45.822147    20.080000   14.666666    46.263119    19.549999   \n",
       "...                 ...          ...         ...          ...          ...   \n",
       "2022-11-24  2579.100098  1632.000000  342.500000  2594.000000  1599.150024   \n",
       "2022-11-25  2617.600098  1631.699951  341.899994  2624.899902  1614.099976   \n",
       "2022-11-28  2707.550049  1607.449951  341.750000  2721.050049  1594.050049   \n",
       "2022-11-29  2712.199951  1612.349976  345.000000  2731.649902  1592.849976   \n",
       "2022-11-30  2731.350098  1612.900024  344.149994  2745.449951  1597.099976   \n",
       "\n",
       "                                            Open                           \\\n",
       "                ITC.NS  RELIANCE.NS  HDFCBANK.NS      ITC.NS  RELIANCE.NS   \n",
       "Date                                                                        \n",
       "2002-12-02   14.155555    44.561131    19.590000   14.225555    44.855110   \n",
       "2002-12-03   14.377777    44.793221    19.520000   14.566666    46.100655   \n",
       "2002-12-04   14.266666    44.375458    19.340000   14.455555    45.334759   \n",
       "2002-12-05   14.355555    45.257397    19.680000   14.400000    45.597794   \n",
       "2002-12-06   14.266666    45.342495    20.000000   14.266666    45.659683   \n",
       "...                ...          ...          ...         ...          ...   \n",
       "2022-11-24  337.549988  2548.199951  1605.949951  339.799988  2566.000000   \n",
       "2022-11-25  337.799988  2582.100098  1629.699951  341.000000  2589.000000   \n",
       "2022-11-28  338.750000  2502.000000  1602.900024  340.000000  2608.899902   \n",
       "2022-11-29  340.000000  2694.000000  1597.250000  340.000000  2703.949951   \n",
       "2022-11-30  339.000000  2698.199951  1597.099976  341.250000  2712.500000   \n",
       "\n",
       "                Volume                          \n",
       "           HDFCBANK.NS      ITC.NS RELIANCE.NS  \n",
       "Date                                            \n",
       "2002-12-02      736330  16884315.0  38180121.0  \n",
       "2002-12-03     1080260  15716160.0  50562967.0  \n",
       "2002-12-04     1510880  13467375.0  59258918.0  \n",
       "2002-12-05      473590   3596130.0  42249653.0  \n",
       "2002-12-06      584710   6986925.0  23717620.0  \n",
       "...                ...         ...         ...  \n",
       "2022-11-24     8598980   8140857.0   4333225.0  \n",
       "2022-11-25     4205248   6933254.0   3391988.0  \n",
       "2022-11-28     8052990   9902739.0  14549929.0  \n",
       "2022-11-29     6319118  10189855.0   5103687.0  \n",
       "2022-11-30     7592403  22556502.0  12075137.0  \n",
       "\n",
       "[4966 rows x 18 columns]"
      ]
     },
     "execution_count": 4,
     "metadata": {},
     "output_type": "execute_result"
    }
   ],
   "source": [
    "df"
   ]
  },
  {
   "cell_type": "code",
   "execution_count": 5,
   "metadata": {},
   "outputs": [
    {
     "data": {
      "text/html": [
       "<div>\n",
       "<style scoped>\n",
       "    .dataframe tbody tr th:only-of-type {\n",
       "        vertical-align: middle;\n",
       "    }\n",
       "\n",
       "    .dataframe tbody tr th {\n",
       "        vertical-align: top;\n",
       "    }\n",
       "\n",
       "    .dataframe thead th {\n",
       "        text-align: right;\n",
       "    }\n",
       "</style>\n",
       "<table border=\"1\" class=\"dataframe\">\n",
       "  <thead>\n",
       "    <tr style=\"text-align: right;\">\n",
       "      <th></th>\n",
       "      <th>HDFCBANK.NS</th>\n",
       "      <th>ITC.NS</th>\n",
       "      <th>RELIANCE.NS</th>\n",
       "    </tr>\n",
       "    <tr>\n",
       "      <th>Date</th>\n",
       "      <th></th>\n",
       "      <th></th>\n",
       "      <th></th>\n",
       "    </tr>\n",
       "  </thead>\n",
       "  <tbody>\n",
       "    <tr>\n",
       "      <th>2002-12-02</th>\n",
       "      <td>NaN</td>\n",
       "      <td>NaN</td>\n",
       "      <td>NaN</td>\n",
       "    </tr>\n",
       "    <tr>\n",
       "      <th>2002-12-03</th>\n",
       "      <td>0.001026</td>\n",
       "      <td>-0.000231</td>\n",
       "      <td>-0.010924</td>\n",
       "    </tr>\n",
       "    <tr>\n",
       "      <th>2002-12-04</th>\n",
       "      <td>0.003581</td>\n",
       "      <td>-0.003622</td>\n",
       "      <td>0.003940</td>\n",
       "    </tr>\n",
       "    <tr>\n",
       "      <th>2002-12-05</th>\n",
       "      <td>0.010415</td>\n",
       "      <td>0.003006</td>\n",
       "      <td>0.006475</td>\n",
       "    </tr>\n",
       "    <tr>\n",
       "      <th>2002-12-06</th>\n",
       "      <td>0.002272</td>\n",
       "      <td>0.012544</td>\n",
       "      <td>0.005927</td>\n",
       "    </tr>\n",
       "    <tr>\n",
       "      <th>...</th>\n",
       "      <td>...</td>\n",
       "      <td>...</td>\n",
       "      <td>...</td>\n",
       "    </tr>\n",
       "    <tr>\n",
       "      <th>2022-11-24</th>\n",
       "      <td>0.016128</td>\n",
       "      <td>0.002792</td>\n",
       "      <td>0.008586</td>\n",
       "    </tr>\n",
       "    <tr>\n",
       "      <th>2022-11-25</th>\n",
       "      <td>-0.004626</td>\n",
       "      <td>-0.001322</td>\n",
       "      <td>0.014817</td>\n",
       "    </tr>\n",
       "    <tr>\n",
       "      <th>2022-11-28</th>\n",
       "      <td>-0.010815</td>\n",
       "      <td>-0.000735</td>\n",
       "      <td>0.033786</td>\n",
       "    </tr>\n",
       "    <tr>\n",
       "      <th>2022-11-29</th>\n",
       "      <td>-0.001501</td>\n",
       "      <td>0.006595</td>\n",
       "      <td>0.001716</td>\n",
       "    </tr>\n",
       "    <tr>\n",
       "      <th>2022-11-30</th>\n",
       "      <td>0.006612</td>\n",
       "      <td>-0.006742</td>\n",
       "      <td>0.007036</td>\n",
       "    </tr>\n",
       "  </tbody>\n",
       "</table>\n",
       "<p>4966 rows × 3 columns</p>\n",
       "</div>"
      ],
      "text/plain": [
       "            HDFCBANK.NS    ITC.NS  RELIANCE.NS\n",
       "Date                                          \n",
       "2002-12-02          NaN       NaN          NaN\n",
       "2002-12-03     0.001026 -0.000231    -0.010924\n",
       "2002-12-04     0.003581 -0.003622     0.003940\n",
       "2002-12-05     0.010415  0.003006     0.006475\n",
       "2002-12-06     0.002272  0.012544     0.005927\n",
       "...                 ...       ...          ...\n",
       "2022-11-24     0.016128  0.002792     0.008586\n",
       "2022-11-25    -0.004626 -0.001322     0.014817\n",
       "2022-11-28    -0.010815 -0.000735     0.033786\n",
       "2022-11-29    -0.001501  0.006595     0.001716\n",
       "2022-11-30     0.006612 -0.006742     0.007036\n",
       "\n",
       "[4966 rows x 3 columns]"
      ]
     },
     "execution_count": 5,
     "metadata": {},
     "output_type": "execute_result"
    }
   ],
   "source": [
    "# normalized daily returns of NSE:HDFCBANK and NSE:RELIANCE\n",
    "\n",
    "df = np.log(1 + df[\"Adj Close\"].pct_change())\n",
    "df"
   ]
  },
  {
   "cell_type": "code",
   "execution_count": 6,
   "metadata": {},
   "outputs": [],
   "source": [
    "df.rename(columns={ \"HDFCBANK.NS\" : \"HDFC\", \"RELIANCE.NS\" : \"RLNC\", \"ITC.NS\" : \"ITC\"}, inplace=True)       # renaming for simplicity"
   ]
  },
  {
   "cell_type": "code",
   "execution_count": 7,
   "metadata": {},
   "outputs": [
    {
     "data": {
      "text/html": [
       "<div>\n",
       "<style scoped>\n",
       "    .dataframe tbody tr th:only-of-type {\n",
       "        vertical-align: middle;\n",
       "    }\n",
       "\n",
       "    .dataframe tbody tr th {\n",
       "        vertical-align: top;\n",
       "    }\n",
       "\n",
       "    .dataframe thead th {\n",
       "        text-align: right;\n",
       "    }\n",
       "</style>\n",
       "<table border=\"1\" class=\"dataframe\">\n",
       "  <thead>\n",
       "    <tr style=\"text-align: right;\">\n",
       "      <th></th>\n",
       "      <th>HDFC</th>\n",
       "      <th>ITC</th>\n",
       "      <th>RLNC</th>\n",
       "    </tr>\n",
       "    <tr>\n",
       "      <th>Date</th>\n",
       "      <th></th>\n",
       "      <th></th>\n",
       "      <th></th>\n",
       "    </tr>\n",
       "  </thead>\n",
       "  <tbody>\n",
       "    <tr>\n",
       "      <th>2002-12-02</th>\n",
       "      <td>NaN</td>\n",
       "      <td>NaN</td>\n",
       "      <td>NaN</td>\n",
       "    </tr>\n",
       "    <tr>\n",
       "      <th>2002-12-03</th>\n",
       "      <td>0.001026</td>\n",
       "      <td>-0.000231</td>\n",
       "      <td>-0.010924</td>\n",
       "    </tr>\n",
       "    <tr>\n",
       "      <th>2002-12-04</th>\n",
       "      <td>0.003581</td>\n",
       "      <td>-0.003622</td>\n",
       "      <td>0.003940</td>\n",
       "    </tr>\n",
       "    <tr>\n",
       "      <th>2002-12-05</th>\n",
       "      <td>0.010415</td>\n",
       "      <td>0.003006</td>\n",
       "      <td>0.006475</td>\n",
       "    </tr>\n",
       "    <tr>\n",
       "      <th>2002-12-06</th>\n",
       "      <td>0.002272</td>\n",
       "      <td>0.012544</td>\n",
       "      <td>0.005927</td>\n",
       "    </tr>\n",
       "    <tr>\n",
       "      <th>...</th>\n",
       "      <td>...</td>\n",
       "      <td>...</td>\n",
       "      <td>...</td>\n",
       "    </tr>\n",
       "    <tr>\n",
       "      <th>2022-11-24</th>\n",
       "      <td>0.016128</td>\n",
       "      <td>0.002792</td>\n",
       "      <td>0.008586</td>\n",
       "    </tr>\n",
       "    <tr>\n",
       "      <th>2022-11-25</th>\n",
       "      <td>-0.004626</td>\n",
       "      <td>-0.001322</td>\n",
       "      <td>0.014817</td>\n",
       "    </tr>\n",
       "    <tr>\n",
       "      <th>2022-11-28</th>\n",
       "      <td>-0.010815</td>\n",
       "      <td>-0.000735</td>\n",
       "      <td>0.033786</td>\n",
       "    </tr>\n",
       "    <tr>\n",
       "      <th>2022-11-29</th>\n",
       "      <td>-0.001501</td>\n",
       "      <td>0.006595</td>\n",
       "      <td>0.001716</td>\n",
       "    </tr>\n",
       "    <tr>\n",
       "      <th>2022-11-30</th>\n",
       "      <td>0.006612</td>\n",
       "      <td>-0.006742</td>\n",
       "      <td>0.007036</td>\n",
       "    </tr>\n",
       "  </tbody>\n",
       "</table>\n",
       "<p>4966 rows × 3 columns</p>\n",
       "</div>"
      ],
      "text/plain": [
       "                HDFC       ITC      RLNC\n",
       "Date                                    \n",
       "2002-12-02       NaN       NaN       NaN\n",
       "2002-12-03  0.001026 -0.000231 -0.010924\n",
       "2002-12-04  0.003581 -0.003622  0.003940\n",
       "2002-12-05  0.010415  0.003006  0.006475\n",
       "2002-12-06  0.002272  0.012544  0.005927\n",
       "...              ...       ...       ...\n",
       "2022-11-24  0.016128  0.002792  0.008586\n",
       "2022-11-25 -0.004626 -0.001322  0.014817\n",
       "2022-11-28 -0.010815 -0.000735  0.033786\n",
       "2022-11-29 -0.001501  0.006595  0.001716\n",
       "2022-11-30  0.006612 -0.006742  0.007036\n",
       "\n",
       "[4966 rows x 3 columns]"
      ]
     },
     "execution_count": 7,
     "metadata": {},
     "output_type": "execute_result"
    }
   ],
   "source": [
    "df"
   ]
  },
  {
   "cell_type": "code",
   "execution_count": 8,
   "metadata": {},
   "outputs": [
    {
     "data": {
      "text/plain": [
       "0.0008913368811579027"
      ]
     },
     "execution_count": 8,
     "metadata": {},
     "output_type": "execute_result"
    }
   ],
   "source": [
    "# 2 asset portfolio return\n",
    "\n",
    "weights = [0.5, 0.5]     # shared of ticker in portfolio\n",
    "weights[0]*df.RLNC.mean() + weights[1]*df.HDFC.mean()"
   ]
  },
  {
   "cell_type": "code",
   "execution_count": 9,
   "metadata": {},
   "outputs": [
    {
     "ename": "ValueError",
     "evalue": "shapes (3,) and (2,) not aligned: 3 (dim 0) != 2 (dim 0)",
     "output_type": "error",
     "traceback": [
      "\u001b[1;31m---------------------------------------------------------------------------\u001b[0m",
      "\u001b[1;31mValueError\u001b[0m                                Traceback (most recent call last)",
      "\u001b[1;32mc:\\Users\\tahze\\Documents\\glaive\\Code\\Projects\\mordern-portfolio-theory\\minimum_variance_portfolio.ipynb Cell 9\u001b[0m in \u001b[0;36m<cell line: 1>\u001b[1;34m()\u001b[0m\n\u001b[1;32m----> <a href='vscode-notebook-cell:/c%3A/Users/tahze/Documents/glaive/Code/Projects/mordern-portfolio-theory/minimum_variance_portfolio.ipynb#X11sZmlsZQ%3D%3D?line=0'>1</a>\u001b[0m np\u001b[39m.\u001b[39mdot(df\u001b[39m.\u001b[39mmean(), weights)\n",
      "File \u001b[1;32m<__array_function__ internals>:200\u001b[0m, in \u001b[0;36mdot\u001b[1;34m(*args, **kwargs)\u001b[0m\n",
      "\u001b[1;31mValueError\u001b[0m: shapes (3,) and (2,) not aligned: 3 (dim 0) != 2 (dim 0)"
     ]
    }
   ],
   "source": [
    "np.dot(df.mean(), weights)      # same thing using numpy lib"
   ]
  },
  {
   "cell_type": "code",
   "execution_count": 10,
   "metadata": {},
   "outputs": [],
   "source": [
    "def portfolio_return(weights):\n",
    "    return np.dot(df.mean(), weights)"
   ]
  },
  {
   "cell_type": "code",
   "execution_count": 11,
   "metadata": {},
   "outputs": [
    {
     "ename": "ValueError",
     "evalue": "shapes (3,) and (2,) not aligned: 3 (dim 0) != 2 (dim 0)",
     "output_type": "error",
     "traceback": [
      "\u001b[1;31m---------------------------------------------------------------------------\u001b[0m",
      "\u001b[1;31mValueError\u001b[0m                                Traceback (most recent call last)",
      "\u001b[1;32mc:\\Users\\tahze\\Documents\\glaive\\Code\\Projects\\mordern-portfolio-theory\\minimum_variance_portfolio.ipynb Cell 11\u001b[0m in \u001b[0;36m<cell line: 1>\u001b[1;34m()\u001b[0m\n\u001b[1;32m----> <a href='vscode-notebook-cell:/c%3A/Users/tahze/Documents/glaive/Code/Projects/mordern-portfolio-theory/minimum_variance_portfolio.ipynb#X13sZmlsZQ%3D%3D?line=0'>1</a>\u001b[0m portfolio_return(weights)\n",
      "\u001b[1;32mc:\\Users\\tahze\\Documents\\glaive\\Code\\Projects\\mordern-portfolio-theory\\minimum_variance_portfolio.ipynb Cell 11\u001b[0m in \u001b[0;36mportfolio_return\u001b[1;34m(weights)\u001b[0m\n\u001b[0;32m      <a href='vscode-notebook-cell:/c%3A/Users/tahze/Documents/glaive/Code/Projects/mordern-portfolio-theory/minimum_variance_portfolio.ipynb#X13sZmlsZQ%3D%3D?line=0'>1</a>\u001b[0m \u001b[39mdef\u001b[39;00m \u001b[39mportfolio_return\u001b[39m(weights):\n\u001b[1;32m----> <a href='vscode-notebook-cell:/c%3A/Users/tahze/Documents/glaive/Code/Projects/mordern-portfolio-theory/minimum_variance_portfolio.ipynb#X13sZmlsZQ%3D%3D?line=1'>2</a>\u001b[0m     \u001b[39mreturn\u001b[39;00m np\u001b[39m.\u001b[39;49mdot(df\u001b[39m.\u001b[39;49mmean(), weights)\n",
      "File \u001b[1;32m<__array_function__ internals>:200\u001b[0m, in \u001b[0;36mdot\u001b[1;34m(*args, **kwargs)\u001b[0m\n",
      "\u001b[1;31mValueError\u001b[0m: shapes (3,) and (2,) not aligned: 3 (dim 0) != 2 (dim 0)"
     ]
    }
   ],
   "source": [
    "portfolio_return(weights)"
   ]
  },
  {
   "cell_type": "code",
   "execution_count": 12,
   "metadata": {},
   "outputs": [
    {
     "data": {
      "text/html": [
       "<div>\n",
       "<style scoped>\n",
       "    .dataframe tbody tr th:only-of-type {\n",
       "        vertical-align: middle;\n",
       "    }\n",
       "\n",
       "    .dataframe tbody tr th {\n",
       "        vertical-align: top;\n",
       "    }\n",
       "\n",
       "    .dataframe thead th {\n",
       "        text-align: right;\n",
       "    }\n",
       "</style>\n",
       "<table border=\"1\" class=\"dataframe\">\n",
       "  <thead>\n",
       "    <tr style=\"text-align: right;\">\n",
       "      <th></th>\n",
       "      <th>HDFC</th>\n",
       "      <th>ITC</th>\n",
       "      <th>RLNC</th>\n",
       "    </tr>\n",
       "  </thead>\n",
       "  <tbody>\n",
       "    <tr>\n",
       "      <th>HDFC</th>\n",
       "      <td>0.000359</td>\n",
       "      <td>0.000121</td>\n",
       "      <td>0.000185</td>\n",
       "    </tr>\n",
       "    <tr>\n",
       "      <th>ITC</th>\n",
       "      <td>0.000121</td>\n",
       "      <td>0.000318</td>\n",
       "      <td>0.000126</td>\n",
       "    </tr>\n",
       "    <tr>\n",
       "      <th>RLNC</th>\n",
       "      <td>0.000185</td>\n",
       "      <td>0.000126</td>\n",
       "      <td>0.000626</td>\n",
       "    </tr>\n",
       "  </tbody>\n",
       "</table>\n",
       "</div>"
      ],
      "text/plain": [
       "          HDFC       ITC      RLNC\n",
       "HDFC  0.000359  0.000121  0.000185\n",
       "ITC   0.000121  0.000318  0.000126\n",
       "RLNC  0.000185  0.000126  0.000626"
      ]
     },
     "execution_count": 12,
     "metadata": {},
     "output_type": "execute_result"
    }
   ],
   "source": [
    "# 2 asset portfolio variance\n",
    "\n",
    "df.cov()"
   ]
  },
  {
   "cell_type": "code",
   "execution_count": 13,
   "metadata": {},
   "outputs": [],
   "source": [
    "pv = weights[0]**2*df.cov().iloc[0,0] + weights[1]**2*df.cov().iloc[1,1] + 2*weights[0]*weights[1]*df.cov().iloc[0,1]"
   ]
  },
  {
   "cell_type": "code",
   "execution_count": 14,
   "metadata": {},
   "outputs": [
    {
     "data": {
      "text/plain": [
       "0.0002297013366065571"
      ]
     },
     "execution_count": 14,
     "metadata": {},
     "output_type": "execute_result"
    }
   ],
   "source": [
    "pv      # portfolio variance"
   ]
  },
  {
   "cell_type": "code",
   "execution_count": 15,
   "metadata": {},
   "outputs": [
    {
     "data": {
      "text/plain": [
       "0.015155901048982772"
      ]
     },
     "execution_count": 15,
     "metadata": {},
     "output_type": "execute_result"
    }
   ],
   "source": [
    "pv**(0.5)       #portfolio st. dev"
   ]
  },
  {
   "cell_type": "code",
   "execution_count": 16,
   "metadata": {},
   "outputs": [
    {
     "ename": "ValueError",
     "evalue": "shapes (3,3) and (2,) not aligned: 3 (dim 1) != 2 (dim 0)",
     "output_type": "error",
     "traceback": [
      "\u001b[1;31m---------------------------------------------------------------------------\u001b[0m",
      "\u001b[1;31mValueError\u001b[0m                                Traceback (most recent call last)",
      "\u001b[1;32mc:\\Users\\tahze\\Documents\\glaive\\Code\\Projects\\mordern-portfolio-theory\\minimum_variance_portfolio.ipynb Cell 16\u001b[0m in \u001b[0;36m<cell line: 1>\u001b[1;34m()\u001b[0m\n\u001b[1;32m----> <a href='vscode-notebook-cell:/c%3A/Users/tahze/Documents/glaive/Code/Projects/mordern-portfolio-theory/minimum_variance_portfolio.ipynb#X21sZmlsZQ%3D%3D?line=0'>1</a>\u001b[0m np\u001b[39m.\u001b[39mdot(np\u001b[39m.\u001b[39mdot(df\u001b[39m.\u001b[39mcov(), weights), weights)\n",
      "File \u001b[1;32m<__array_function__ internals>:200\u001b[0m, in \u001b[0;36mdot\u001b[1;34m(*args, **kwargs)\u001b[0m\n",
      "\u001b[1;31mValueError\u001b[0m: shapes (3,3) and (2,) not aligned: 3 (dim 1) != 2 (dim 0)"
     ]
    }
   ],
   "source": [
    "np.dot(np.dot(df.cov(), weights), weights)"
   ]
  },
  {
   "cell_type": "code",
   "execution_count": 17,
   "metadata": {},
   "outputs": [],
   "source": [
    "def portfolio_std(weights):\n",
    "    return np.dot(np.dot(df.cov(), weights), weights)**(0.5)*np.sqrt(250)       # annulaized"
   ]
  },
  {
   "cell_type": "code",
   "execution_count": 18,
   "metadata": {},
   "outputs": [
    {
     "ename": "ValueError",
     "evalue": "shapes (3,3) and (2,) not aligned: 3 (dim 1) != 2 (dim 0)",
     "output_type": "error",
     "traceback": [
      "\u001b[1;31m---------------------------------------------------------------------------\u001b[0m",
      "\u001b[1;31mValueError\u001b[0m                                Traceback (most recent call last)",
      "\u001b[1;32mc:\\Users\\tahze\\Documents\\glaive\\Code\\Projects\\mordern-portfolio-theory\\minimum_variance_portfolio.ipynb Cell 18\u001b[0m in \u001b[0;36m<cell line: 1>\u001b[1;34m()\u001b[0m\n\u001b[1;32m----> <a href='vscode-notebook-cell:/c%3A/Users/tahze/Documents/glaive/Code/Projects/mordern-portfolio-theory/minimum_variance_portfolio.ipynb#X23sZmlsZQ%3D%3D?line=0'>1</a>\u001b[0m portfolio_std(weights)\n",
      "\u001b[1;32mc:\\Users\\tahze\\Documents\\glaive\\Code\\Projects\\mordern-portfolio-theory\\minimum_variance_portfolio.ipynb Cell 18\u001b[0m in \u001b[0;36mportfolio_std\u001b[1;34m(weights)\u001b[0m\n\u001b[0;32m      <a href='vscode-notebook-cell:/c%3A/Users/tahze/Documents/glaive/Code/Projects/mordern-portfolio-theory/minimum_variance_portfolio.ipynb#X23sZmlsZQ%3D%3D?line=0'>1</a>\u001b[0m \u001b[39mdef\u001b[39;00m \u001b[39mportfolio_std\u001b[39m(weights):\n\u001b[1;32m----> <a href='vscode-notebook-cell:/c%3A/Users/tahze/Documents/glaive/Code/Projects/mordern-portfolio-theory/minimum_variance_portfolio.ipynb#X23sZmlsZQ%3D%3D?line=1'>2</a>\u001b[0m     \u001b[39mreturn\u001b[39;00m np\u001b[39m.\u001b[39mdot(np\u001b[39m.\u001b[39;49mdot(df\u001b[39m.\u001b[39;49mcov(), weights), weights)\u001b[39m*\u001b[39m\u001b[39m*\u001b[39m(\u001b[39m0.5\u001b[39m)\u001b[39m*\u001b[39mnp\u001b[39m.\u001b[39msqrt(\u001b[39m250\u001b[39m)\n",
      "File \u001b[1;32m<__array_function__ internals>:200\u001b[0m, in \u001b[0;36mdot\u001b[1;34m(*args, **kwargs)\u001b[0m\n",
      "\u001b[1;31mValueError\u001b[0m: shapes (3,3) and (2,) not aligned: 3 (dim 1) != 2 (dim 0)"
     ]
    }
   ],
   "source": [
    "portfolio_std(weights)"
   ]
  },
  {
   "cell_type": "code",
   "execution_count": 19,
   "metadata": {},
   "outputs": [],
   "source": [
    "def weights_creator(df):\n",
    "    rand = np.random.random(len(df.columns))\n",
    "    rand /= rand.sum()\n",
    "    return rand"
   ]
  },
  {
   "cell_type": "code",
   "execution_count": 20,
   "metadata": {},
   "outputs": [
    {
     "data": {
      "text/plain": [
       "array([0.36155011, 0.40856637, 0.22988352])"
      ]
     },
     "execution_count": 20,
     "metadata": {},
     "output_type": "execute_result"
    }
   ],
   "source": [
    "weights_creator(df)     # array with random weights for each stock"
   ]
  },
  {
   "cell_type": "code",
   "execution_count": 21,
   "metadata": {},
   "outputs": [],
   "source": [
    "returns = []\n",
    "stds = []\n",
    "w = []\n",
    "\n",
    "for i in range(500):\n",
    "    weights = weights_creator(df)\n",
    "    returns.append(portfolio_return(weights))\n",
    "    stds.append(portfolio_std(weights))\n",
    "    w.append(weights)"
   ]
  },
  {
   "cell_type": "code",
   "execution_count": 22,
   "metadata": {},
   "outputs": [],
   "source": [
    "import matplotlib.pyplot as plt"
   ]
  },
  {
   "cell_type": "code",
   "execution_count": 26,
   "metadata": {},
   "outputs": [
    {
     "data": {
      "image/png": "[encoded data removed]",
      "text/plain": [
       "<Figure size 432x288 with 1 Axes>"
      ]
     },
     "metadata": {
      "needs_background": "light"
     },
     "output_type": "display_data"
    }
   ],
   "source": [
    "plt.scatter(stds, returns)\n",
    "\n",
    "plt.scatter(df.std().iloc[0]*np.sqrt(250), df.mean().iloc[0], c='r')        # HDFC\n",
    "plt.scatter(df.std().iloc[1]*np.sqrt(250), df.mean().iloc[1], c='y')        # RLNC\n",
    "plt.scatter(df.std().iloc[2]*np.sqrt(250), df.mean().iloc[2], c='k')        # RLNC\n",
    "plt.scatter(min(stds), returns[stds.index(min(stds))], c='g')\n",
    "\n",
    "plt.title(\"Efficient Frontier\")\n",
    "plt.xlabel(\"Portfolio Standard Deviation\")\n",
    "plt.ylabel(\"Portfolio Return\")\n",
    "plt.show()"
   ]
  },
  {
   "cell_type": "code",
   "execution_count": 27,
   "metadata": {},
   "outputs": [
    {
     "data": {
      "text/plain": [
       "0.23352667675551955"
      ]
     },
     "execution_count": 27,
     "metadata": {},
     "output_type": "execute_result"
    }
   ],
   "source": [
    "min(stds)"
   ]
  },
  {
   "cell_type": "code",
   "execution_count": 28,
   "metadata": {},
   "outputs": [
    {
     "data": {
      "text/plain": [
       "0.0008133877991549334"
      ]
     },
     "execution_count": 28,
     "metadata": {},
     "output_type": "execute_result"
    }
   ],
   "source": [
    "returns[stds.index(min(stds))]"
   ]
  },
  {
   "cell_type": "code",
   "execution_count": null,
   "metadata": {},
   "outputs": [],
   "source": []
  }
 ],
 "metadata": {
  "kernelspec": {
   "display_name": "Python 3",
   "language": "python",
   "name": "python3"
  },
  "language_info": {
   "codemirror_mode": {
    "name": "ipython",
    "version": 3
   },
   "file_extension": ".py",
   "mimetype": "text/x-python",
   "name": "python",
   "nbconvert_exporter": "python",
   "pygments_lexer": "ipython3",
   "version": "3.10.2"
  },
  "orig_nbformat": 4
 },
 "nbformat": 4,
 "nbformat_minor": 2
}
